{
  "nbformat": 4,
  "nbformat_minor": 0,
  "metadata": {
    "colab": {
      "provenance": []
    },
    "kernelspec": {
      "name": "python3",
      "display_name": "Python 3"
    },
    "language_info": {
      "name": "python"
    }
  },
  "cells": [
    {
      "cell_type": "code",
      "execution_count": null,
      "metadata": {
        "colab": {
          "base_uri": "https://localhost:8080/"
        },
        "id": "pULRyghQByUa",
        "outputId": "33830b64-641b-47e2-c192-e21e23210e25"
      },
      "outputs": [
        {
          "output_type": "stream",
          "name": "stdout",
          "text": [
            "Mounted at /content/drive\n"
          ]
        }
      ],
      "source": [
        "from google.colab import drive\n",
        "drive.mount('/content/drive')"
      ]
    },
    {
      "cell_type": "code",
      "source": [
        "!pip install pyspark"
      ],
      "metadata": {
        "colab": {
          "base_uri": "https://localhost:8080/"
        },
        "id": "0eN_O7a6B9ee",
        "outputId": "64cc994b-fe35-4a82-de33-71154316cfc1"
      },
      "execution_count": null,
      "outputs": [
        {
          "output_type": "stream",
          "name": "stdout",
          "text": [
            "Collecting pyspark\n",
            "  Downloading pyspark-3.5.1.tar.gz (317.0 MB)\n",
            "\u001b[2K     \u001b[90m━━━━━━━━━━━━━━━━━━━━━━━━━━━━━━━━━━━━━━━━\u001b[0m \u001b[32m317.0/317.0 MB\u001b[0m \u001b[31m3.3 MB/s\u001b[0m eta \u001b[36m0:00:00\u001b[0m\n",
            "\u001b[?25h  Preparing metadata (setup.py) ... \u001b[?25l\u001b[?25hdone\n",
            "Requirement already satisfied: py4j==0.10.9.7 in /usr/local/lib/python3.10/dist-packages (from pyspark) (0.10.9.7)\n",
            "Building wheels for collected packages: pyspark\n",
            "  Building wheel for pyspark (setup.py) ... \u001b[?25l\u001b[?25hdone\n",
            "  Created wheel for pyspark: filename=pyspark-3.5.1-py2.py3-none-any.whl size=317488491 sha256=4b4a287089fbb147cd419328be840b8f58494b1c5fae96139d2330a8a7648456\n",
            "  Stored in directory: /root/.cache/pip/wheels/80/1d/60/2c256ed38dddce2fdd93be545214a63e02fbd8d74fb0b7f3a6\n",
            "Successfully built pyspark\n",
            "Installing collected packages: pyspark\n",
            "Successfully installed pyspark-3.5.1\n"
          ]
        }
      ]
    },
    {
      "cell_type": "code",
      "source": [
        "from pyspark.sql import SparkSession\n",
        "from pyspark.ml.feature import VectorAssembler,StandardScaler,StringIndexer,PCA,OneHotEncoder\n",
        "from pyspark.sql.types import StringType\n",
        "from pyspark.ml import Pipeline\n",
        "import matplotlib.pyplot as plt"
      ],
      "metadata": {
        "id": "gif84DenCAsL"
      },
      "execution_count": null,
      "outputs": []
    },
    {
      "cell_type": "code",
      "source": [
        "spark = SparkSession.builder\\\n",
        "    .master(\"local[*]\")\\\n",
        "    .appName(\"Crime Analysis PCAbuilder\")\\\n",
        "    .getOrCreate()\n",
        "sc = spark.sparkContext"
      ],
      "metadata": {
        "id": "O4Mv8M7yCFff"
      },
      "execution_count": null,
      "outputs": []
    },
    {
      "cell_type": "code",
      "source": [
        "df = spark.read.csv('drive/My Drive/cleaned_v3.csv',header = True,inferSchema = True)"
      ],
      "metadata": {
        "id": "FrFaO5eUCHdH"
      },
      "execution_count": null,
      "outputs": []
    },
    {
      "cell_type": "code",
      "source": [
        "df.printSchema()"
      ],
      "metadata": {
        "colab": {
          "base_uri": "https://localhost:8080/"
        },
        "id": "BwnX5nGhSPYR",
        "outputId": "ed718226-68fd-4e6a-c83e-e2aee298f73d"
      },
      "execution_count": null,
      "outputs": [
        {
          "output_type": "stream",
          "name": "stdout",
          "text": [
            "root\n",
            " |-- State: string (nullable = true)\n",
            " |-- Agency_type: string (nullable = true)\n",
            " |-- Year: integer (nullable = true)\n",
            " |-- Month: string (nullable = true)\n",
            " |-- Crime_type: string (nullable = true)\n",
            " |-- Crime_status: string (nullable = true)\n",
            " |-- Victim_age: integer (nullable = true)\n",
            " |-- Victim_sex: string (nullable = true)\n",
            " |-- Victim_race: string (nullable = true)\n",
            " |-- Offender_age: integer (nullable = true)\n",
            " |-- Offender_sex: string (nullable = true)\n",
            " |-- Offender_race: string (nullable = true)\n",
            " |-- Weapon: string (nullable = true)\n",
            " |-- Relationship: string (nullable = true)\n",
            " |-- Crime_cause: string (nullable = true)\n",
            " |-- add_victim_count: integer (nullable = true)\n",
            " |-- add_offender_count: integer (nullable = true)\n",
            " |-- County: string (nullable = true)\n",
            " |-- Offender_demo: string (nullable = true)\n",
            "\n"
          ]
        }
      ]
    },
    {
      "cell_type": "code",
      "source": [
        "df.columns"
      ],
      "metadata": {
        "id": "P1nx_J51SuWa",
        "colab": {
          "base_uri": "https://localhost:8080/"
        },
        "outputId": "d111f45f-8b0a-457d-e7b5-cb6ea1b873a8"
      },
      "execution_count": null,
      "outputs": [
        {
          "output_type": "execute_result",
          "data": {
            "text/plain": [
              "['State',\n",
              " 'Agency_type',\n",
              " 'Year',\n",
              " 'Month',\n",
              " 'Crime_type',\n",
              " 'Crime_status',\n",
              " 'Victim_age',\n",
              " 'Victim_sex',\n",
              " 'Victim_race',\n",
              " 'Offender_age',\n",
              " 'Offender_sex',\n",
              " 'Offender_race',\n",
              " 'Weapon',\n",
              " 'Relationship',\n",
              " 'Crime_cause',\n",
              " 'add_victim_count',\n",
              " 'add_offender_count',\n",
              " 'County',\n",
              " 'Offender_demo']"
            ]
          },
          "metadata": {},
          "execution_count": 7
        }
      ]
    },
    {
      "cell_type": "code",
      "source": [
        "# drop the target variable ,age and sex columns\n",
        "df = df.drop('Offender_age','Offender_sex')"
      ],
      "metadata": {
        "id": "gLKJVe5DMBqX"
      },
      "execution_count": null,
      "outputs": []
    },
    {
      "cell_type": "markdown",
      "source": [
        "Transforming the categorical variables"
      ],
      "metadata": {
        "id": "Ji9EKuINNFB6"
      }
    },
    {
      "cell_type": "code",
      "source": [
        "# Define the input and output column vectors\n",
        "str_cols = [f.name for f in df.schema.fields if isinstance(f.dataType, StringType)]\n",
        "idxed_cols = ['%s_idx'%i for i in str_cols]\n",
        "recoded_cols = ['%s_recoded'%i for i in str_cols]"
      ],
      "metadata": {
        "id": "Q2VUqD51S0Dh"
      },
      "execution_count": null,
      "outputs": []
    },
    {
      "cell_type": "code",
      "source": [
        "# Convert the categorical column of labels to a column of label indices\n",
        "indexer = StringIndexer(inputCols=str_cols, outputCols=idxed_cols)\n",
        "indexed = indexer.fit(df).transform(df)\n",
        "#indexed.show()"
      ],
      "metadata": {
        "id": "6QuwUBz9rTcN"
      },
      "execution_count": null,
      "outputs": []
    },
    {
      "cell_type": "code",
      "source": [
        "indexed.show()"
      ],
      "metadata": {
        "colab": {
          "base_uri": "https://localhost:8080/"
        },
        "id": "mBjGRAFuPBLe",
        "outputId": "b19d4a7e-8af8-4955-854f-75b1161fe451"
      },
      "execution_count": null,
      "outputs": [
        {
          "output_type": "stream",
          "name": "stdout",
          "text": [
            "+----------+----------------+----+-------+--------------------+--------------------+----------+----------+-----------+-------------+--------------------+--------------------+--------------------+----------------+------------------+-----------+-------------+---------+---------------+---------+--------------+----------------+--------------+---------------+-----------------+----------+----------------+---------------+----------+-----------------+\n",
            "|     State|     Agency_type|Year|  Month|          Crime_type|        Crime_status|Victim_age|Victim_sex|Victim_race|Offender_race|              Weapon|        Relationship|         Crime_cause|add_victim_count|add_offender_count|     County|Offender_demo|State_idx|Agency_type_idx|Month_idx|Crime_type_idx|Crime_status_idx|Victim_sex_idx|Victim_race_idx|Offender_race_idx|Weapon_idx|Relationship_idx|Crime_cause_idx|County_idx|Offender_demo_idx|\n",
            "+----------+----------------+----+-------+--------------------+--------------------+----------+----------+-----------+-------------+--------------------+--------------------+--------------------+----------------+------------------+-----------+-------------+---------+---------------+---------+--------------+----------------+--------------+---------------+-----------------+----------+----------------+---------------+----------+-----------------+\n",
            "|    Alaska|Municipal police|2000|January|Murder and non-ne...|Single victim/sin...|        25|    Female|      Black|        Black|            Firearms|Marital and Domestic|Special circumsta...|               0|                 0|  Anchorage|       19-55M|     38.0|            0.0|      4.0|           0.0|             0.0|           1.0|            1.0|              1.0|       0.0|             2.0|            0.0|      87.0|              0.0|\n",
            "|   Alabama|         Sheriff|2000|January|Murder and non-ne...|Single victim/mul...|        24|      Male|      White|        White|Blunt forced weapons|               Other|Special circumsta...|               0|                 1|     Mobile|       19-55M|     21.0|            1.0|      4.0|           0.0|             1.0|           0.0|            0.0|              0.0|       2.0|             0.0|            0.0|     112.0|              0.0|\n",
            "|  Arkansas|Municipal police|2000|January|Murder and non-ne...|Single victim/sin...|        33|    Female|      Black|        Black|            Firearms|Marital and Domestic|   Personal disputes|               0|                 0| Crittenden|       19-55M|     24.0|            0.0|      4.0|           0.0|             0.0|           1.0|            1.0|              1.0|       0.0|             2.0|            1.0|     245.0|              0.0|\n",
            "|  Arkansas|Municipal police|2000|January|Murder and non-ne...|Single victim/sin...|         3|    Female|      Black|        Black|Blunt forced weapons|              Family|Special circumsta...|               0|                 0|  Jefferson|       19-55M|     24.0|            0.0|      4.0|           0.0|             0.0|           1.0|            1.0|              1.0|       2.0|             3.0|            0.0|       5.0|              0.0|\n",
            "|  Arkansas|         Sheriff|2000|January|Murder and non-ne...|Single victim/mul...|        72|      Male|      White|        Black|            Firearms|               Other|Crime-related kil...|               0|                 3|    Lincoln|         <18M|     24.0|            1.0|      4.0|           0.0|             1.0|           0.0|            0.0|              1.0|       0.0|             0.0|            2.0|     133.0|              1.0|\n",
            "|  Arkansas|         Sheriff|2000|January|Murder and non-ne...|Single victim/sin...|        41|      Male|      White|        White|            Firearms|              Family|Special circumsta...|               0|                 0|    Madison|         <18M|     24.0|            1.0|      4.0|           0.0|             0.0|           0.0|            0.0|              0.0|       0.0|             3.0|            0.0|      50.0|              1.0|\n",
            "|  Arkansas|Municipal police|2000|January|Murder and non-ne...|Single victim/sin...|        22|      Male|      White|        White|      Bladed weapons|              Social|   Personal disputes|               0|                 0|Mississippi|       19-55M|     24.0|            0.0|      4.0|           0.0|             0.0|           0.0|            0.0|              0.0|       1.0|             1.0|            1.0|     283.0|              0.0|\n",
            "|  Arkansas|Municipal police|2000|January|Murder and non-ne...|Single victim/sin...|        51|      Male|      Black|        Black|      Bladed weapons|Marital and Domestic|   Personal disputes|               0|                 0|    Pulaski|       19-55F|     24.0|            0.0|      4.0|           0.0|             0.0|           0.0|            1.0|              1.0|       1.0|             2.0|            1.0|      48.0|              2.0|\n",
            "|  Arkansas|Municipal police|2000|January|Murder and non-ne...|Single victim/sin...|        32|      Male|      Black|        Black|Asphyxiation and ...|              Social|Special circumsta...|               0|                 0|    Pulaski|       19-55M|     24.0|            0.0|      4.0|           0.0|             0.0|           0.0|            1.0|              1.0|       4.0|             1.0|            0.0|      48.0|              0.0|\n",
            "|  Arkansas|Municipal police|2000|January|Murder and non-ne...|Single victim/sin...|        64|      Male|      White|        White|            Firearms|              Social|Crime-related kil...|               0|                 0|     Sevier|       19-55M|     24.0|            0.0|      4.0|           0.0|             0.0|           0.0|            0.0|              0.0|       0.0|             1.0|            2.0|     430.0|              0.0|\n",
            "|  Arkansas|Municipal police|2000|January|Murder and non-ne...|Single victim/sin...|        22|    Female|      Black|        Black|            Firearms|Marital and Domestic|   Personal disputes|               0|                 0|      Union|       19-55M|     24.0|            0.0|      4.0|           0.0|             0.0|           1.0|            1.0|              1.0|       0.0|             2.0|            1.0|      78.0|              0.0|\n",
            "|  Arkansas|Municipal police|2000|January|Murder and non-ne...|Single victim/sin...|         1|      Male|      Black|        White|               Other|              Family|Special circumsta...|               0|                 0| Washington|       19-55F|     24.0|            0.0|      4.0|           0.0|             0.0|           0.0|            1.0|              0.0|       3.0|             3.0|            0.0|      40.0|              2.0|\n",
            "|  Arkansas|         Sheriff|2000|January|Murder and non-ne...|Single victim/sin...|        62|      Male|      White|        White|            Firearms|              Social|   Personal disputes|               0|                 0|       Yell|       19-55F|     24.0|            1.0|      4.0|           0.0|             0.0|           0.0|            0.0|              0.0|       0.0|             1.0|            1.0|     995.0|              2.0|\n",
            "|   Arizona|Municipal police|2000|January|Murder and non-ne...|Single victim/sin...|        30|      Male|      White|        White|Blunt forced weapons|              Social|   Personal disputes|               0|                 0|   Maricopa|       19-55M|     14.0|            0.0|      4.0|           0.0|             0.0|           0.0|            0.0|              0.0|       2.0|             1.0|            1.0|       6.0|              0.0|\n",
            "|   Arizona|Municipal police|2000|January|Murder and non-ne...|Single victim/sin...|        27|      Male|      White|        White|            Firearms|              Social|   Personal disputes|               0|                 0|   Maricopa|       19-55M|     14.0|            0.0|      4.0|           0.0|             0.0|           0.0|            0.0|              0.0|       0.0|             1.0|            1.0|       6.0|              0.0|\n",
            "|   Arizona|         Sheriff|2000|January|Murder and non-ne...|Single victim/sin...|        41|      Male|      White|        White|            Firearms|              Social|Special circumsta...|               0|                 0|     Mohave|         >56M|     14.0|            1.0|      4.0|           0.0|             0.0|           0.0|            0.0|              0.0|       0.0|             1.0|            0.0|     185.0|              3.0|\n",
            "|   Arizona|Municipal police|2000|January|Murder and non-ne...|Single victim/sin...|        19|      Male|      Other|        White|            Firearms|              Social| Criminal activities|               0|                 0|       Pima|       19-55M|     14.0|            0.0|      4.0|           0.0|             0.0|           0.0|            2.0|              0.0|       0.0|             1.0|            3.0|      45.0|              0.0|\n",
            "|California|Municipal police|2000|January|Murder and non-ne...|Single victim/sin...|        29|      Male|      Black|        Black|            Firearms|              Social|Special circumsta...|               0|                 0|    Alameda|       19-55M|      0.0|            0.0|      4.0|           0.0|             0.0|           0.0|            1.0|              1.0|       0.0|             1.0|            0.0|      36.0|              0.0|\n",
            "|California|Municipal police|2000|January|Murder and non-ne...|Single victim/sin...|        45|    Female|      Other|        Other|      Bladed weapons|              Family|   Personal disputes|               0|                 0|    Alameda|       19-55M|      0.0|            0.0|      4.0|           0.0|             0.0|           1.0|            2.0|              2.0|       1.0|             3.0|            1.0|      36.0|              0.0|\n",
            "|California|Municipal police|2000|January|Murder and non-ne...|Multiple victims/...|        39|    Female|      White|        White|            Firearms|              Family|   Personal disputes|               1|                 0|    Alameda|       19-55F|      0.0|            0.0|      4.0|           0.0|             2.0|           1.0|            0.0|              0.0|       0.0|             3.0|            1.0|      36.0|              2.0|\n",
            "+----------+----------------+----+-------+--------------------+--------------------+----------+----------+-----------+-------------+--------------------+--------------------+--------------------+----------------+------------------+-----------+-------------+---------+---------------+---------+--------------+----------------+--------------+---------------+-----------------+----------+----------------+---------------+----------+-----------------+\n",
            "only showing top 20 rows\n",
            "\n"
          ]
        }
      ]
    },
    {
      "cell_type": "code",
      "source": [
        "# One hot encoding for categorical variables\n",
        "encoder = OneHotEncoder(inputCols=idxed_cols,\n",
        "                        outputCols=recoded_cols)\n",
        "model = encoder.fit(indexed)\n",
        "encoded = model.transform(indexed)\n",
        "#encoded.show()"
      ],
      "metadata": {
        "id": "YKIFYGrJCLWE"
      },
      "execution_count": null,
      "outputs": []
    },
    {
      "cell_type": "code",
      "source": [
        "# Drop the original catgorical columns and indexed columns before further proceed\n",
        "encoded = encoded.drop(*str_cols)  # use * to convert unpacks the contents of an iterator"
      ],
      "metadata": {
        "id": "yDuDHmaOWR93"
      },
      "execution_count": null,
      "outputs": []
    },
    {
      "cell_type": "code",
      "source": [
        "encoded = encoded.drop(*idxed_cols)"
      ],
      "metadata": {
        "id": "KSWsAJ01SIx5"
      },
      "execution_count": null,
      "outputs": []
    },
    {
      "cell_type": "code",
      "source": [
        "encoded.show()"
      ],
      "metadata": {
        "colab": {
          "base_uri": "https://localhost:8080/"
        },
        "id": "OTqhvT8wPNW4",
        "outputId": "6cd4edd1-71ee-460b-f74c-a9b617def724"
      },
      "execution_count": null,
      "outputs": [
        {
          "output_type": "stream",
          "name": "stdout",
          "text": [
            "+----+----------+----------------+------------------+---------------+-------------------+--------------+------------------+--------------------+------------------+-------------------+---------------------+--------------+--------------------+-------------------+------------------+---------------------+\n",
            "|Year|Victim_age|add_victim_count|add_offender_count|  State_recoded|Agency_type_recoded| Month_recoded|Crime_type_recoded|Crime_status_recoded|Victim_sex_recoded|Victim_race_recoded|Offender_race_recoded|Weapon_recoded|Relationship_recoded|Crime_cause_recoded|    County_recoded|Offender_demo_recoded|\n",
            "+----+----------+----------------+------------------+---------------+-------------------+--------------+------------------+--------------------+------------------+-------------------+---------------------+--------------+--------------------+-------------------+------------------+---------------------+\n",
            "|2000|        25|               0|                 0|(50,[38],[1.0])|      (7,[0],[1.0])|(11,[4],[1.0])|     (1,[0],[1.0])|       (5,[0],[1.0])|         (1,[],[])|      (2,[1],[1.0])|        (2,[1],[1.0])| (4,[0],[1.0])|       (4,[2],[1.0])|      (5,[0],[1.0])| (1732,[87],[1.0])|        (5,[0],[1.0])|\n",
            "|2000|        24|               0|                 1|(50,[21],[1.0])|      (7,[1],[1.0])|(11,[4],[1.0])|     (1,[0],[1.0])|       (5,[1],[1.0])|     (1,[0],[1.0])|      (2,[0],[1.0])|        (2,[0],[1.0])| (4,[2],[1.0])|       (4,[0],[1.0])|      (5,[0],[1.0])|(1732,[112],[1.0])|        (5,[0],[1.0])|\n",
            "|2000|        33|               0|                 0|(50,[24],[1.0])|      (7,[0],[1.0])|(11,[4],[1.0])|     (1,[0],[1.0])|       (5,[0],[1.0])|         (1,[],[])|      (2,[1],[1.0])|        (2,[1],[1.0])| (4,[0],[1.0])|       (4,[2],[1.0])|      (5,[1],[1.0])|(1732,[245],[1.0])|        (5,[0],[1.0])|\n",
            "|2000|         3|               0|                 0|(50,[24],[1.0])|      (7,[0],[1.0])|(11,[4],[1.0])|     (1,[0],[1.0])|       (5,[0],[1.0])|         (1,[],[])|      (2,[1],[1.0])|        (2,[1],[1.0])| (4,[2],[1.0])|       (4,[3],[1.0])|      (5,[0],[1.0])|  (1732,[5],[1.0])|        (5,[0],[1.0])|\n",
            "|2000|        72|               0|                 3|(50,[24],[1.0])|      (7,[1],[1.0])|(11,[4],[1.0])|     (1,[0],[1.0])|       (5,[1],[1.0])|     (1,[0],[1.0])|      (2,[0],[1.0])|        (2,[1],[1.0])| (4,[0],[1.0])|       (4,[0],[1.0])|      (5,[2],[1.0])|(1732,[133],[1.0])|        (5,[1],[1.0])|\n",
            "|2000|        41|               0|                 0|(50,[24],[1.0])|      (7,[1],[1.0])|(11,[4],[1.0])|     (1,[0],[1.0])|       (5,[0],[1.0])|     (1,[0],[1.0])|      (2,[0],[1.0])|        (2,[0],[1.0])| (4,[0],[1.0])|       (4,[3],[1.0])|      (5,[0],[1.0])| (1732,[50],[1.0])|        (5,[1],[1.0])|\n",
            "|2000|        22|               0|                 0|(50,[24],[1.0])|      (7,[0],[1.0])|(11,[4],[1.0])|     (1,[0],[1.0])|       (5,[0],[1.0])|     (1,[0],[1.0])|      (2,[0],[1.0])|        (2,[0],[1.0])| (4,[1],[1.0])|       (4,[1],[1.0])|      (5,[1],[1.0])|(1732,[283],[1.0])|        (5,[0],[1.0])|\n",
            "|2000|        51|               0|                 0|(50,[24],[1.0])|      (7,[0],[1.0])|(11,[4],[1.0])|     (1,[0],[1.0])|       (5,[0],[1.0])|     (1,[0],[1.0])|      (2,[1],[1.0])|        (2,[1],[1.0])| (4,[1],[1.0])|       (4,[2],[1.0])|      (5,[1],[1.0])| (1732,[48],[1.0])|        (5,[2],[1.0])|\n",
            "|2000|        32|               0|                 0|(50,[24],[1.0])|      (7,[0],[1.0])|(11,[4],[1.0])|     (1,[0],[1.0])|       (5,[0],[1.0])|     (1,[0],[1.0])|      (2,[1],[1.0])|        (2,[1],[1.0])|     (4,[],[])|       (4,[1],[1.0])|      (5,[0],[1.0])| (1732,[48],[1.0])|        (5,[0],[1.0])|\n",
            "|2000|        64|               0|                 0|(50,[24],[1.0])|      (7,[0],[1.0])|(11,[4],[1.0])|     (1,[0],[1.0])|       (5,[0],[1.0])|     (1,[0],[1.0])|      (2,[0],[1.0])|        (2,[0],[1.0])| (4,[0],[1.0])|       (4,[1],[1.0])|      (5,[2],[1.0])|(1732,[430],[1.0])|        (5,[0],[1.0])|\n",
            "|2000|        22|               0|                 0|(50,[24],[1.0])|      (7,[0],[1.0])|(11,[4],[1.0])|     (1,[0],[1.0])|       (5,[0],[1.0])|         (1,[],[])|      (2,[1],[1.0])|        (2,[1],[1.0])| (4,[0],[1.0])|       (4,[2],[1.0])|      (5,[1],[1.0])| (1732,[78],[1.0])|        (5,[0],[1.0])|\n",
            "|2000|         1|               0|                 0|(50,[24],[1.0])|      (7,[0],[1.0])|(11,[4],[1.0])|     (1,[0],[1.0])|       (5,[0],[1.0])|     (1,[0],[1.0])|      (2,[1],[1.0])|        (2,[0],[1.0])| (4,[3],[1.0])|       (4,[3],[1.0])|      (5,[0],[1.0])| (1732,[40],[1.0])|        (5,[2],[1.0])|\n",
            "|2000|        62|               0|                 0|(50,[24],[1.0])|      (7,[1],[1.0])|(11,[4],[1.0])|     (1,[0],[1.0])|       (5,[0],[1.0])|     (1,[0],[1.0])|      (2,[0],[1.0])|        (2,[0],[1.0])| (4,[0],[1.0])|       (4,[1],[1.0])|      (5,[1],[1.0])|(1732,[995],[1.0])|        (5,[2],[1.0])|\n",
            "|2000|        30|               0|                 0|(50,[14],[1.0])|      (7,[0],[1.0])|(11,[4],[1.0])|     (1,[0],[1.0])|       (5,[0],[1.0])|     (1,[0],[1.0])|      (2,[0],[1.0])|        (2,[0],[1.0])| (4,[2],[1.0])|       (4,[1],[1.0])|      (5,[1],[1.0])|  (1732,[6],[1.0])|        (5,[0],[1.0])|\n",
            "|2000|        27|               0|                 0|(50,[14],[1.0])|      (7,[0],[1.0])|(11,[4],[1.0])|     (1,[0],[1.0])|       (5,[0],[1.0])|     (1,[0],[1.0])|      (2,[0],[1.0])|        (2,[0],[1.0])| (4,[0],[1.0])|       (4,[1],[1.0])|      (5,[1],[1.0])|  (1732,[6],[1.0])|        (5,[0],[1.0])|\n",
            "|2000|        41|               0|                 0|(50,[14],[1.0])|      (7,[1],[1.0])|(11,[4],[1.0])|     (1,[0],[1.0])|       (5,[0],[1.0])|     (1,[0],[1.0])|      (2,[0],[1.0])|        (2,[0],[1.0])| (4,[0],[1.0])|       (4,[1],[1.0])|      (5,[0],[1.0])|(1732,[185],[1.0])|        (5,[3],[1.0])|\n",
            "|2000|        19|               0|                 0|(50,[14],[1.0])|      (7,[0],[1.0])|(11,[4],[1.0])|     (1,[0],[1.0])|       (5,[0],[1.0])|     (1,[0],[1.0])|          (2,[],[])|        (2,[0],[1.0])| (4,[0],[1.0])|       (4,[1],[1.0])|      (5,[3],[1.0])| (1732,[45],[1.0])|        (5,[0],[1.0])|\n",
            "|2000|        29|               0|                 0| (50,[0],[1.0])|      (7,[0],[1.0])|(11,[4],[1.0])|     (1,[0],[1.0])|       (5,[0],[1.0])|     (1,[0],[1.0])|      (2,[1],[1.0])|        (2,[1],[1.0])| (4,[0],[1.0])|       (4,[1],[1.0])|      (5,[0],[1.0])| (1732,[36],[1.0])|        (5,[0],[1.0])|\n",
            "|2000|        45|               0|                 0| (50,[0],[1.0])|      (7,[0],[1.0])|(11,[4],[1.0])|     (1,[0],[1.0])|       (5,[0],[1.0])|         (1,[],[])|          (2,[],[])|            (2,[],[])| (4,[1],[1.0])|       (4,[3],[1.0])|      (5,[1],[1.0])| (1732,[36],[1.0])|        (5,[0],[1.0])|\n",
            "|2000|        39|               1|                 0| (50,[0],[1.0])|      (7,[0],[1.0])|(11,[4],[1.0])|     (1,[0],[1.0])|       (5,[2],[1.0])|         (1,[],[])|      (2,[0],[1.0])|        (2,[0],[1.0])| (4,[0],[1.0])|       (4,[3],[1.0])|      (5,[1],[1.0])| (1732,[36],[1.0])|        (5,[2],[1.0])|\n",
            "+----+----------+----------------+------------------+---------------+-------------------+--------------+------------------+--------------------+------------------+-------------------+---------------------+--------------+--------------------+-------------------+------------------+---------------------+\n",
            "only showing top 20 rows\n",
            "\n"
          ]
        }
      ]
    },
    {
      "cell_type": "markdown",
      "source": [
        "Scalling the numerical varibale - Standard scaler"
      ],
      "metadata": {
        "id": "m0foyNN-ODdZ"
      }
    },
    {
      "cell_type": "code",
      "source": [
        "num_cols= ['Victim_age','Year','add_victim_count','add_offender_count']"
      ],
      "metadata": {
        "id": "Dsg1qmHmMrXy"
      },
      "execution_count": null,
      "outputs": []
    },
    {
      "cell_type": "code",
      "source": [
        "#df_cont = df[num_cols]\n",
        "#df_cont.show()"
      ],
      "metadata": {
        "id": "TsBmEhKO4ZVp"
      },
      "execution_count": null,
      "outputs": []
    },
    {
      "cell_type": "code",
      "source": [
        "# Create the vector assembler to combine all input cols\n",
        "vector_assembler = VectorAssembler(inputCols=num_cols, outputCol='cont_features')"
      ],
      "metadata": {
        "id": "mkJmqnUFB5x8"
      },
      "execution_count": null,
      "outputs": []
    },
    {
      "cell_type": "code",
      "source": [
        "# Data Transformation using Standard Scaler\n",
        "scaler = StandardScaler(inputCol='cont_features', outputCol='x_scaled',\n",
        "                        withStd=True, withMean=True) # Normalize each feature to have unit standard deviation and zero mean\n",
        "\n",
        "pipeline = Pipeline(stages=[vector_assembler, scaler])\n",
        "scaler_model = pipeline.fit(encoded) # add the scaled features to the encoded dataset\n",
        "scaled = scaler_model.transform(encoded)\n",
        "scaled.show()"
      ],
      "metadata": {
        "id": "fxpNe7BgDAfE",
        "colab": {
          "base_uri": "https://localhost:8080/"
        },
        "outputId": "706d1e57-59f7-4b62-87f8-ab46cea8eaac"
      },
      "execution_count": null,
      "outputs": [
        {
          "output_type": "stream",
          "name": "stdout",
          "text": [
            "+----+----------+----------------+------------------+---------------+-------------------+--------------+------------------+--------------------+------------------+-------------------+---------------------+--------------+--------------------+-------------------+------------------+---------------------+--------------------+--------------------+\n",
            "|Year|Victim_age|add_victim_count|add_offender_count|  State_recoded|Agency_type_recoded| Month_recoded|Crime_type_recoded|Crime_status_recoded|Victim_sex_recoded|Victim_race_recoded|Offender_race_recoded|Weapon_recoded|Relationship_recoded|Crime_cause_recoded|    County_recoded|Offender_demo_recoded|       cont_features|            x_scaled|\n",
            "+----+----------+----------------+------------------+---------------+-------------------+--------------+------------------+--------------------+------------------+-------------------+---------------------+--------------+--------------------+-------------------+------------------+---------------------+--------------------+--------------------+\n",
            "|2000|        25|               0|                 0|(50,[38],[1.0])|      (7,[0],[1.0])|(11,[4],[1.0])|     (1,[0],[1.0])|       (5,[0],[1.0])|         (1,[],[])|      (2,[1],[1.0])|        (2,[1],[1.0])| (4,[0],[1.0])|       (4,[2],[1.0])|      (5,[0],[1.0])| (1732,[87],[1.0])|        (5,[0],[1.0])|[25.0,2000.0,0.0,...|[-0.5226616465801...|\n",
            "|2000|        24|               0|                 1|(50,[21],[1.0])|      (7,[1],[1.0])|(11,[4],[1.0])|     (1,[0],[1.0])|       (5,[1],[1.0])|     (1,[0],[1.0])|      (2,[0],[1.0])|        (2,[0],[1.0])| (4,[2],[1.0])|       (4,[0],[1.0])|      (5,[0],[1.0])|(1732,[112],[1.0])|        (5,[0],[1.0])|[24.0,2000.0,0.0,...|[-0.5804957625909...|\n",
            "|2000|        33|               0|                 0|(50,[24],[1.0])|      (7,[0],[1.0])|(11,[4],[1.0])|     (1,[0],[1.0])|       (5,[0],[1.0])|         (1,[],[])|      (2,[1],[1.0])|        (2,[1],[1.0])| (4,[0],[1.0])|       (4,[2],[1.0])|      (5,[1],[1.0])|(1732,[245],[1.0])|        (5,[0],[1.0])|[33.0,2000.0,0.0,...|[-0.0599887184940...|\n",
            "|2000|         3|               0|                 0|(50,[24],[1.0])|      (7,[0],[1.0])|(11,[4],[1.0])|     (1,[0],[1.0])|       (5,[0],[1.0])|         (1,[],[])|      (2,[1],[1.0])|        (2,[1],[1.0])| (4,[2],[1.0])|       (4,[3],[1.0])|      (5,[0],[1.0])|  (1732,[5],[1.0])|        (5,[0],[1.0])|[3.0,2000.0,0.0,0.0]|[-1.7950121988168...|\n",
            "|2000|        72|               0|                 3|(50,[24],[1.0])|      (7,[1],[1.0])|(11,[4],[1.0])|     (1,[0],[1.0])|       (5,[1],[1.0])|     (1,[0],[1.0])|      (2,[0],[1.0])|        (2,[1],[1.0])| (4,[0],[1.0])|       (4,[0],[1.0])|      (5,[2],[1.0])|(1732,[133],[1.0])|        (5,[1],[1.0])|[72.0,2000.0,0.0,...|[2.1955418059255,...|\n",
            "|2000|        41|               0|                 0|(50,[24],[1.0])|      (7,[1],[1.0])|(11,[4],[1.0])|     (1,[0],[1.0])|       (5,[0],[1.0])|     (1,[0],[1.0])|      (2,[0],[1.0])|        (2,[0],[1.0])| (4,[0],[1.0])|       (4,[3],[1.0])|      (5,[0],[1.0])| (1732,[50],[1.0])|        (5,[1],[1.0])|[41.0,2000.0,0.0,...|[0.40268420959198...|\n",
            "|2000|        22|               0|                 0|(50,[24],[1.0])|      (7,[0],[1.0])|(11,[4],[1.0])|     (1,[0],[1.0])|       (5,[0],[1.0])|     (1,[0],[1.0])|      (2,[0],[1.0])|        (2,[0],[1.0])| (4,[1],[1.0])|       (4,[1],[1.0])|      (5,[1],[1.0])|(1732,[283],[1.0])|        (5,[0],[1.0])|[22.0,2000.0,0.0,...|[-0.6961639946124...|\n",
            "|2000|        51|               0|                 0|(50,[24],[1.0])|      (7,[0],[1.0])|(11,[4],[1.0])|     (1,[0],[1.0])|       (5,[0],[1.0])|     (1,[0],[1.0])|      (2,[1],[1.0])|        (2,[1],[1.0])| (4,[1],[1.0])|       (4,[2],[1.0])|      (5,[1],[1.0])| (1732,[48],[1.0])|        (5,[2],[1.0])|[51.0,2000.0,0.0,...|[0.98102536969956...|\n",
            "|2000|        32|               0|                 0|(50,[24],[1.0])|      (7,[0],[1.0])|(11,[4],[1.0])|     (1,[0],[1.0])|       (5,[0],[1.0])|     (1,[0],[1.0])|      (2,[1],[1.0])|        (2,[1],[1.0])|     (4,[],[])|       (4,[1],[1.0])|      (5,[0],[1.0])| (1732,[48],[1.0])|        (5,[0],[1.0])|[32.0,2000.0,0.0,...|[-0.1178228345048...|\n",
            "|2000|        64|               0|                 0|(50,[24],[1.0])|      (7,[0],[1.0])|(11,[4],[1.0])|     (1,[0],[1.0])|       (5,[0],[1.0])|     (1,[0],[1.0])|      (2,[0],[1.0])|        (2,[0],[1.0])| (4,[0],[1.0])|       (4,[1],[1.0])|      (5,[2],[1.0])|(1732,[430],[1.0])|        (5,[0],[1.0])|[64.0,2000.0,0.0,...|[1.73286887783943...|\n",
            "|2000|        22|               0|                 0|(50,[24],[1.0])|      (7,[0],[1.0])|(11,[4],[1.0])|     (1,[0],[1.0])|       (5,[0],[1.0])|         (1,[],[])|      (2,[1],[1.0])|        (2,[1],[1.0])| (4,[0],[1.0])|       (4,[2],[1.0])|      (5,[1],[1.0])| (1732,[78],[1.0])|        (5,[0],[1.0])|[22.0,2000.0,0.0,...|[-0.6961639946124...|\n",
            "|2000|         1|               0|                 0|(50,[24],[1.0])|      (7,[0],[1.0])|(11,[4],[1.0])|     (1,[0],[1.0])|       (5,[0],[1.0])|     (1,[0],[1.0])|      (2,[1],[1.0])|        (2,[0],[1.0])| (4,[3],[1.0])|       (4,[3],[1.0])|      (5,[0],[1.0])| (1732,[40],[1.0])|        (5,[2],[1.0])|[1.0,2000.0,0.0,0.0]|[-1.9106804308383...|\n",
            "|2000|        62|               0|                 0|(50,[24],[1.0])|      (7,[1],[1.0])|(11,[4],[1.0])|     (1,[0],[1.0])|       (5,[0],[1.0])|     (1,[0],[1.0])|      (2,[0],[1.0])|        (2,[0],[1.0])| (4,[0],[1.0])|       (4,[1],[1.0])|      (5,[1],[1.0])|(1732,[995],[1.0])|        (5,[2],[1.0])|[62.0,2000.0,0.0,...|[1.61720064581791...|\n",
            "|2000|        30|               0|                 0|(50,[14],[1.0])|      (7,[0],[1.0])|(11,[4],[1.0])|     (1,[0],[1.0])|       (5,[0],[1.0])|     (1,[0],[1.0])|      (2,[0],[1.0])|        (2,[0],[1.0])| (4,[2],[1.0])|       (4,[1],[1.0])|      (5,[1],[1.0])|  (1732,[6],[1.0])|        (5,[0],[1.0])|[30.0,2000.0,0.0,...|[-0.2334910665263...|\n",
            "|2000|        27|               0|                 0|(50,[14],[1.0])|      (7,[0],[1.0])|(11,[4],[1.0])|     (1,[0],[1.0])|       (5,[0],[1.0])|     (1,[0],[1.0])|      (2,[0],[1.0])|        (2,[0],[1.0])| (4,[0],[1.0])|       (4,[1],[1.0])|      (5,[1],[1.0])|  (1732,[6],[1.0])|        (5,[0],[1.0])|[27.0,2000.0,0.0,...|[-0.4069934145586...|\n",
            "|2000|        41|               0|                 0|(50,[14],[1.0])|      (7,[1],[1.0])|(11,[4],[1.0])|     (1,[0],[1.0])|       (5,[0],[1.0])|     (1,[0],[1.0])|      (2,[0],[1.0])|        (2,[0],[1.0])| (4,[0],[1.0])|       (4,[1],[1.0])|      (5,[0],[1.0])|(1732,[185],[1.0])|        (5,[3],[1.0])|[41.0,2000.0,0.0,...|[0.40268420959198...|\n",
            "|2000|        19|               0|                 0|(50,[14],[1.0])|      (7,[0],[1.0])|(11,[4],[1.0])|     (1,[0],[1.0])|       (5,[0],[1.0])|     (1,[0],[1.0])|          (2,[],[])|        (2,[0],[1.0])| (4,[0],[1.0])|       (4,[1],[1.0])|      (5,[3],[1.0])| (1732,[45],[1.0])|        (5,[0],[1.0])|[19.0,2000.0,0.0,...|[-0.8696663426447...|\n",
            "|2000|        29|               0|                 0| (50,[0],[1.0])|      (7,[0],[1.0])|(11,[4],[1.0])|     (1,[0],[1.0])|       (5,[0],[1.0])|     (1,[0],[1.0])|      (2,[1],[1.0])|        (2,[1],[1.0])| (4,[0],[1.0])|       (4,[1],[1.0])|      (5,[0],[1.0])| (1732,[36],[1.0])|        (5,[0],[1.0])|[29.0,2000.0,0.0,...|[-0.2913251825371...|\n",
            "|2000|        45|               0|                 0| (50,[0],[1.0])|      (7,[0],[1.0])|(11,[4],[1.0])|     (1,[0],[1.0])|       (5,[0],[1.0])|         (1,[],[])|          (2,[],[])|            (2,[],[])| (4,[1],[1.0])|       (4,[3],[1.0])|      (5,[1],[1.0])| (1732,[36],[1.0])|        (5,[0],[1.0])|[45.0,2000.0,0.0,...|[0.63402067363501...|\n",
            "|2000|        39|               1|                 0| (50,[0],[1.0])|      (7,[0],[1.0])|(11,[4],[1.0])|     (1,[0],[1.0])|       (5,[2],[1.0])|         (1,[],[])|      (2,[0],[1.0])|        (2,[0],[1.0])| (4,[0],[1.0])|       (4,[3],[1.0])|      (5,[1],[1.0])| (1732,[36],[1.0])|        (5,[2],[1.0])|[39.0,2000.0,1.0,...|[0.28701597757046...|\n",
            "+----+----------+----------------+------------------+---------------+-------------------+--------------+------------------+--------------------+------------------+-------------------+---------------------+--------------+--------------------+-------------------+------------------+---------------------+--------------------+--------------------+\n",
            "only showing top 20 rows\n",
            "\n"
          ]
        }
      ]
    },
    {
      "cell_type": "code",
      "source": [
        "# View the scaled vector for all the variables\n",
        "scaled.select(['x_scaled']).collect()"
      ],
      "metadata": {
        "id": "OwNLXETFACrL",
        "colab": {
          "base_uri": "https://localhost:8080/"
        },
        "outputId": "a592f946-0211-4c88-ae32-4ed6f3401a3b"
      },
      "execution_count": null,
      "outputs": [
        {
          "output_type": "execute_result",
          "data": {
            "text/plain": [
              "[Row(x_scaled=DenseVector([-0.5227, -1.7052, -0.2559, -0.3904])),\n",
              " Row(x_scaled=DenseVector([-0.5805, -1.7052, -0.2559, 0.876])),\n",
              " Row(x_scaled=DenseVector([-0.06, -1.7052, -0.2559, -0.3904])),\n",
              " Row(x_scaled=DenseVector([-1.795, -1.7052, -0.2559, -0.3904])),\n",
              " Row(x_scaled=DenseVector([2.1955, -1.7052, -0.2559, 3.4089])),\n",
              " Row(x_scaled=DenseVector([0.4027, -1.7052, -0.2559, -0.3904])),\n",
              " Row(x_scaled=DenseVector([-0.6962, -1.7052, -0.2559, -0.3904])),\n",
              " Row(x_scaled=DenseVector([0.981, -1.7052, -0.2559, -0.3904])),\n",
              " Row(x_scaled=DenseVector([-0.1178, -1.7052, -0.2559, -0.3904])),\n",
              " Row(x_scaled=DenseVector([1.7329, -1.7052, -0.2559, -0.3904])),\n",
              " Row(x_scaled=DenseVector([-0.6962, -1.7052, -0.2559, -0.3904])),\n",
              " Row(x_scaled=DenseVector([-1.9107, -1.7052, -0.2559, -0.3904])),\n",
              " Row(x_scaled=DenseVector([1.6172, -1.7052, -0.2559, -0.3904])),\n",
              " Row(x_scaled=DenseVector([-0.2335, -1.7052, -0.2559, -0.3904])),\n",
              " Row(x_scaled=DenseVector([-0.407, -1.7052, -0.2559, -0.3904])),\n",
              " Row(x_scaled=DenseVector([0.4027, -1.7052, -0.2559, -0.3904])),\n",
              " Row(x_scaled=DenseVector([-0.8697, -1.7052, -0.2559, -0.3904])),\n",
              " Row(x_scaled=DenseVector([-0.2913, -1.7052, -0.2559, -0.3904])),\n",
              " Row(x_scaled=DenseVector([0.634, -1.7052, -0.2559, -0.3904])),\n",
              " Row(x_scaled=DenseVector([0.287, -1.7052, 1.3187, -0.3904])),\n",
              " Row(x_scaled=DenseVector([-1.101, -1.7052, 1.3187, -0.3904])),\n",
              " Row(x_scaled=DenseVector([-0.6962, -1.7052, -0.2559, -0.3904])),\n",
              " Row(x_scaled=DenseVector([-0.8697, -1.7052, -0.2559, -0.3904])),\n",
              " Row(x_scaled=DenseVector([2.8317, -1.7052, 1.3187, -0.3904])),\n",
              " Row(x_scaled=DenseVector([2.5425, -1.7052, 1.3187, -0.3904])),\n",
              " Row(x_scaled=DenseVector([-0.9275, -1.7052, -0.2559, -0.3904])),\n",
              " Row(x_scaled=DenseVector([-0.6962, -1.7052, -0.2559, -0.3904])),\n",
              " Row(x_scaled=DenseVector([-1.101, -1.7052, 1.3187, -0.3904])),\n",
              " Row(x_scaled=DenseVector([-0.754, -1.7052, 1.3187, -0.3904])),\n",
              " Row(x_scaled=DenseVector([-0.06, -1.7052, -0.2559, 0.876])),\n",
              " Row(x_scaled=DenseVector([1.0967, -1.7052, -0.2559, -0.3904])),\n",
              " Row(x_scaled=DenseVector([0.0557, -1.7052, -0.2559, 0.876])),\n",
              " Row(x_scaled=DenseVector([-0.5805, -1.7052, -0.2559, -0.3904])),\n",
              " Row(x_scaled=DenseVector([-1.795, -1.7052, 1.3187, -0.3904])),\n",
              " Row(x_scaled=DenseVector([-1.101, -1.7052, 1.3187, -0.3904])),\n",
              " Row(x_scaled=DenseVector([-0.3492, -1.7052, -0.2559, 2.1425])),\n",
              " Row(x_scaled=DenseVector([0.2292, -1.7052, -0.2559, -0.3904])),\n",
              " Row(x_scaled=DenseVector([-0.9275, -1.7052, -0.2559, -0.3904])),\n",
              " Row(x_scaled=DenseVector([0.5184, -1.7052, -0.2559, -0.3904])),\n",
              " Row(x_scaled=DenseVector([1.2702, -1.7052, -0.2559, 0.876])),\n",
              " Row(x_scaled=DenseVector([0.4605, -1.7052, -0.2559, -0.3904])),\n",
              " Row(x_scaled=DenseVector([-0.3492, -1.7052, -0.2559, 0.876])),\n",
              " Row(x_scaled=DenseVector([-0.5805, -1.7052, -0.2559, -0.3904])),\n",
              " Row(x_scaled=DenseVector([-1.3902, -1.7052, -0.2559, -0.3904])),\n",
              " Row(x_scaled=DenseVector([1.5015, -1.7052, -0.2559, 3.4089])),\n",
              " Row(x_scaled=DenseVector([2.022, -1.7052, -0.2559, -0.3904])),\n",
              " Row(x_scaled=DenseVector([-0.754, -1.7052, -0.2559, 2.1425])),\n",
              " Row(x_scaled=DenseVector([0.6919, -1.7052, -0.2559, 0.876])),\n",
              " Row(x_scaled=DenseVector([1.0967, -1.7052, -0.2559, -0.3904])),\n",
              " Row(x_scaled=DenseVector([-0.6383, -1.7052, -0.2559, -0.3904])),\n",
              " Row(x_scaled=DenseVector([-0.8697, -1.7052, -0.2559, -0.3904])),\n",
              " Row(x_scaled=DenseVector([-0.9275, -1.7052, -0.2559, 0.876])),\n",
              " Row(x_scaled=DenseVector([-0.9275, -1.7052, -0.2559, 3.4089])),\n",
              " Row(x_scaled=DenseVector([-0.407, -1.7052, -0.2559, -0.3904])),\n",
              " Row(x_scaled=DenseVector([-1.5637, -1.7052, 2.8933, -0.3904])),\n",
              " Row(x_scaled=DenseVector([-1.7372, -1.7052, 2.8933, -0.3904])),\n",
              " Row(x_scaled=DenseVector([-0.1178, -1.7052, 2.8933, -0.3904])),\n",
              " Row(x_scaled=DenseVector([-1.101, -1.7052, -0.2559, -0.3904])),\n",
              " Row(x_scaled=DenseVector([-0.3492, -1.7052, -0.2559, -0.3904])),\n",
              " Row(x_scaled=DenseVector([-0.5805, -1.7052, -0.2559, -0.3904])),\n",
              " Row(x_scaled=DenseVector([0.7497, -1.7052, -0.2559, -0.3904])),\n",
              " Row(x_scaled=DenseVector([0.4605, -1.7052, -0.2559, -0.3904])),\n",
              " Row(x_scaled=DenseVector([3.2366, -1.7052, -0.2559, -0.3904])),\n",
              " Row(x_scaled=DenseVector([0.3449, -1.7052, -0.2559, -0.3904])),\n",
              " Row(x_scaled=DenseVector([-0.8697, -1.7052, -0.2559, -0.3904])),\n",
              " Row(x_scaled=DenseVector([-0.2335, -1.7052, -0.2559, -0.3904])),\n",
              " Row(x_scaled=DenseVector([-0.06, -1.7052, -0.2559, -0.3904])),\n",
              " Row(x_scaled=DenseVector([-0.9853, -1.7052, -0.2559, -0.3904])),\n",
              " Row(x_scaled=DenseVector([-0.1757, -1.7052, -0.2559, -0.3904])),\n",
              " Row(x_scaled=DenseVector([-0.5805, -1.7052, -0.2559, -0.3904])),\n",
              " Row(x_scaled=DenseVector([-0.407, -1.7052, -0.2559, -0.3904])),\n",
              " Row(x_scaled=DenseVector([0.8075, -1.7052, -0.2559, -0.3904])),\n",
              " Row(x_scaled=DenseVector([-0.0022, -1.7052, -0.2559, -0.3904])),\n",
              " Row(x_scaled=DenseVector([1.5015, -1.7052, -0.2559, -0.3904])),\n",
              " Row(x_scaled=DenseVector([-0.5227, -1.7052, -0.2559, -0.3904])),\n",
              " Row(x_scaled=DenseVector([-1.3323, -1.7052, -0.2559, -0.3904])),\n",
              " Row(x_scaled=DenseVector([0.1713, -1.7052, -0.2559, -0.3904])),\n",
              " Row(x_scaled=DenseVector([-0.9275, -1.7052, -0.2559, 0.876])),\n",
              " Row(x_scaled=DenseVector([-1.9107, -1.7052, 4.4679, -0.3904])),\n",
              " Row(x_scaled=DenseVector([-1.6793, -1.7052, 4.4679, -0.3904])),\n",
              " Row(x_scaled=DenseVector([-1.5058, -1.7052, 4.4679, -0.3904])),\n",
              " Row(x_scaled=DenseVector([-0.06, -1.7052, 4.4679, -0.3904])),\n",
              " Row(x_scaled=DenseVector([0.2292, -1.7052, -0.2559, -0.3904])),\n",
              " Row(x_scaled=DenseVector([0.5184, -1.7052, -0.2559, -0.3904])),\n",
              " Row(x_scaled=DenseVector([-0.2335, -1.7052, -0.2559, 2.1425])),\n",
              " Row(x_scaled=DenseVector([-0.6962, -1.7052, -0.2559, 0.876])),\n",
              " Row(x_scaled=DenseVector([0.5184, -1.7052, -0.2559, 0.876])),\n",
              " Row(x_scaled=DenseVector([-0.5227, -1.7052, -0.2559, -0.3904])),\n",
              " Row(x_scaled=DenseVector([-0.8697, -1.7052, -0.2559, -0.3904])),\n",
              " Row(x_scaled=DenseVector([-1.9107, -1.7052, -0.2559, 0.876])),\n",
              " Row(x_scaled=DenseVector([0.1135, -1.7052, -0.2559, 2.1425])),\n",
              " Row(x_scaled=DenseVector([-0.2913, -1.7052, -0.2559, -0.3904])),\n",
              " Row(x_scaled=DenseVector([-0.5805, -1.7052, -0.2559, -0.3904])),\n",
              " Row(x_scaled=DenseVector([0.0557, -1.7052, -0.2559, -0.3904])),\n",
              " Row(x_scaled=DenseVector([1.0967, -1.7052, -0.2559, -0.3904])),\n",
              " Row(x_scaled=DenseVector([-0.6383, -1.7052, -0.2559, -0.3904])),\n",
              " Row(x_scaled=DenseVector([-0.5805, -1.7052, -0.2559, 7.2083])),\n",
              " Row(x_scaled=DenseVector([1.9064, -1.7052, -0.2559, -0.3904])),\n",
              " Row(x_scaled=DenseVector([0.2292, -1.7052, -0.2559, -0.3904])),\n",
              " Row(x_scaled=DenseVector([0.1135, -1.7052, -0.2559, -0.3904])),\n",
              " Row(x_scaled=DenseVector([0.0557, -1.7052, -0.2559, -0.3904])),\n",
              " Row(x_scaled=DenseVector([-0.0022, -1.7052, -0.2559, -0.3904])),\n",
              " Row(x_scaled=DenseVector([0.287, -1.7052, -0.2559, -0.3904])),\n",
              " Row(x_scaled=DenseVector([-0.2335, -1.7052, -0.2559, -0.3904])),\n",
              " Row(x_scaled=DenseVector([0.7497, -1.7052, -0.2559, -0.3904])),\n",
              " Row(x_scaled=DenseVector([0.287, -1.7052, -0.2559, -0.3904])),\n",
              " Row(x_scaled=DenseVector([-0.06, -1.7052, -0.2559, -0.3904])),\n",
              " Row(x_scaled=DenseVector([0.4027, -1.7052, -0.2559, -0.3904])),\n",
              " Row(x_scaled=DenseVector([0.634, -1.7052, -0.2559, 2.1425])),\n",
              " Row(x_scaled=DenseVector([2.0799, -1.7052, -0.2559, -0.3904])),\n",
              " Row(x_scaled=DenseVector([0.1135, -1.7052, -0.2559, -0.3904])),\n",
              " Row(x_scaled=DenseVector([-0.4648, -1.7052, -0.2559, -0.3904])),\n",
              " Row(x_scaled=DenseVector([-1.9107, -1.7052, -0.2559, -0.3904])),\n",
              " Row(x_scaled=DenseVector([0.1135, -1.7052, -0.2559, -0.3904])),\n",
              " Row(x_scaled=DenseVector([1.328, -1.7052, -0.2559, 0.876])),\n",
              " Row(x_scaled=DenseVector([0.287, -1.7052, -0.2559, -0.3904])),\n",
              " Row(x_scaled=DenseVector([0.8075, -1.7052, -0.2559, -0.3904])),\n",
              " Row(x_scaled=DenseVector([3.0631, -1.7052, -0.2559, -0.3904])),\n",
              " Row(x_scaled=DenseVector([0.287, -1.7052, -0.2559, -0.3904])),\n",
              " Row(x_scaled=DenseVector([1.0389, -1.7052, -0.2559, -0.3904])),\n",
              " Row(x_scaled=DenseVector([1.7329, -1.7052, -0.2559, -0.3904])),\n",
              " Row(x_scaled=DenseVector([-1.8528, -1.7052, -0.2559, -0.3904])),\n",
              " Row(x_scaled=DenseVector([0.0557, -1.7052, -0.2559, 0.876])),\n",
              " Row(x_scaled=DenseVector([-0.9853, -1.7052, -0.2559, -0.3904])),\n",
              " Row(x_scaled=DenseVector([-0.5227, -1.7052, -0.2559, -0.3904])),\n",
              " Row(x_scaled=DenseVector([-0.8118, -1.7052, -0.2559, -0.3904])),\n",
              " Row(x_scaled=DenseVector([0.5762, -1.7052, -0.2559, -0.3904])),\n",
              " Row(x_scaled=DenseVector([-0.5227, -1.7052, -0.2559, -0.3904])),\n",
              " Row(x_scaled=DenseVector([-0.6962, -1.7052, -0.2559, -0.3904])),\n",
              " Row(x_scaled=DenseVector([-0.407, -1.7052, -0.2559, -0.3904])),\n",
              " Row(x_scaled=DenseVector([0.1135, -1.7052, -0.2559, -0.3904])),\n",
              " Row(x_scaled=DenseVector([-0.407, -1.7052, -0.2559, -0.3904])),\n",
              " Row(x_scaled=DenseVector([-1.5058, -1.7052, 1.3187, -0.3904])),\n",
              " Row(x_scaled=DenseVector([-1.8528, -1.7052, 1.3187, -0.3904])),\n",
              " Row(x_scaled=DenseVector([-0.1178, -1.7052, -0.2559, -0.3904])),\n",
              " Row(x_scaled=DenseVector([0.2292, -1.7052, -0.2559, -0.3904])),\n",
              " Row(x_scaled=DenseVector([-0.4648, -1.7052, -0.2559, -0.3904])),\n",
              " Row(x_scaled=DenseVector([1.3859, -1.7052, -0.2559, -0.3904])),\n",
              " Row(x_scaled=DenseVector([0.0557, -1.7052, -0.2559, -0.3904])),\n",
              " Row(x_scaled=DenseVector([-1.0432, -1.7052, -0.2559, 2.1425])),\n",
              " Row(x_scaled=DenseVector([0.1135, -1.7052, 4.4679, 0.876])),\n",
              " Row(x_scaled=DenseVector([-0.9853, -1.7052, 4.4679, 0.876])),\n",
              " Row(x_scaled=DenseVector([-1.0432, -1.7052, 4.4679, 0.876])),\n",
              " Row(x_scaled=DenseVector([-1.9107, -1.7052, 4.4679, 0.876])),\n",
              " Row(x_scaled=DenseVector([0.9232, -1.7052, -0.2559, -0.3904])),\n",
              " Row(x_scaled=DenseVector([-0.754, -1.7052, -0.2559, -0.3904])),\n",
              " Row(x_scaled=DenseVector([0.1713, -1.7052, -0.2559, 3.4089])),\n",
              " Row(x_scaled=DenseVector([-0.407, -1.7052, 1.3187, -0.3904])),\n",
              " Row(x_scaled=DenseVector([-0.6383, -1.7052, 1.3187, -0.3904])),\n",
              " Row(x_scaled=DenseVector([-0.2335, -1.7052, -0.2559, -0.3904])),\n",
              " Row(x_scaled=DenseVector([-0.9275, -1.7052, 1.3187, -0.3904])),\n",
              " Row(x_scaled=DenseVector([0.2292, -1.7052, 1.3187, -0.3904])),\n",
              " Row(x_scaled=DenseVector([-0.1178, -1.7052, -0.2559, -0.3904])),\n",
              " Row(x_scaled=DenseVector([-0.6383, -1.7052, -0.2559, -0.3904])),\n",
              " Row(x_scaled=DenseVector([-0.407, -1.7052, -0.2559, 4.6754])),\n",
              " Row(x_scaled=DenseVector([2.6582, -1.7052, -0.2559, -0.3904])),\n",
              " Row(x_scaled=DenseVector([-0.0022, -1.7052, -0.2559, -0.3904])),\n",
              " Row(x_scaled=DenseVector([-1.9107, -1.7052, -0.2559, -0.3904])),\n",
              " Row(x_scaled=DenseVector([-1.1588, -1.7052, -0.2559, 2.1425])),\n",
              " Row(x_scaled=DenseVector([-0.9275, -1.7052, -0.2559, -0.3904])),\n",
              " Row(x_scaled=DenseVector([0.8654, -1.7052, -0.2559, -0.3904])),\n",
              " Row(x_scaled=DenseVector([-0.9853, -1.7052, -0.2559, -0.3904])),\n",
              " Row(x_scaled=DenseVector([-0.5805, -1.7052, -0.2559, -0.3904])),\n",
              " Row(x_scaled=DenseVector([-0.0022, -1.7052, -0.2559, -0.3904])),\n",
              " Row(x_scaled=DenseVector([0.2292, -1.7052, -0.2559, 2.1425])),\n",
              " Row(x_scaled=DenseVector([0.4027, -1.7052, -0.2559, -0.3904])),\n",
              " Row(x_scaled=DenseVector([-0.2335, -1.7052, 1.3187, -0.3904])),\n",
              " Row(x_scaled=DenseVector([-0.8118, -1.7052, 1.3187, -0.3904])),\n",
              " Row(x_scaled=DenseVector([0.287, -1.7052, -0.2559, -0.3904])),\n",
              " Row(x_scaled=DenseVector([-0.8697, -1.7052, -0.2559, 8.4748])),\n",
              " Row(x_scaled=DenseVector([-0.8118, -1.7052, -0.2559, -0.3904])),\n",
              " Row(x_scaled=DenseVector([-1.8528, -1.7052, -0.2559, -0.3904])),\n",
              " Row(x_scaled=DenseVector([-0.1178, -1.7052, -0.2559, -0.3904])),\n",
              " Row(x_scaled=DenseVector([-0.754, -1.7052, -0.2559, -0.3904])),\n",
              " Row(x_scaled=DenseVector([-0.2335, -1.7052, -0.2559, -0.3904])),\n",
              " Row(x_scaled=DenseVector([1.0389, -1.7052, -0.2559, -0.3904])),\n",
              " Row(x_scaled=DenseVector([-0.8697, -1.7052, -0.2559, -0.3904])),\n",
              " Row(x_scaled=DenseVector([-0.3492, -1.7052, -0.2559, -0.3904])),\n",
              " Row(x_scaled=DenseVector([-0.1178, -1.7052, -0.2559, -0.3904])),\n",
              " Row(x_scaled=DenseVector([-0.407, -1.7052, -0.2559, -0.3904])),\n",
              " Row(x_scaled=DenseVector([1.0389, -1.7052, -0.2559, -0.3904])),\n",
              " Row(x_scaled=DenseVector([-0.6962, -1.7052, -0.2559, -0.3904])),\n",
              " Row(x_scaled=DenseVector([-0.5227, -1.7052, 1.3187, -0.3904])),\n",
              " Row(x_scaled=DenseVector([-0.754, -1.7052, 1.3187, -0.3904])),\n",
              " Row(x_scaled=DenseVector([0.287, -1.7052, -0.2559, -0.3904])),\n",
              " Row(x_scaled=DenseVector([-1.2745, -1.7052, -0.2559, -0.3904])),\n",
              " Row(x_scaled=DenseVector([0.287, -1.7052, -0.2559, -0.3904])),\n",
              " Row(x_scaled=DenseVector([-0.5805, -1.7052, -0.2559, -0.3904])),\n",
              " Row(x_scaled=DenseVector([-0.4648, -1.7052, -0.2559, -0.3904])),\n",
              " Row(x_scaled=DenseVector([-1.5058, -1.7052, -0.2559, -0.3904])),\n",
              " Row(x_scaled=DenseVector([0.1135, -1.7052, -0.2559, -0.3904])),\n",
              " Row(x_scaled=DenseVector([0.1713, -1.7052, -0.2559, -0.3904])),\n",
              " Row(x_scaled=DenseVector([0.3449, -1.7052, -0.2559, -0.3904])),\n",
              " Row(x_scaled=DenseVector([-0.2913, -1.7052, -0.2559, -0.3904])),\n",
              " Row(x_scaled=DenseVector([-0.1757, -1.7052, -0.2559, -0.3904])),\n",
              " Row(x_scaled=DenseVector([-0.8697, -1.7052, -0.2559, 0.876])),\n",
              " Row(x_scaled=DenseVector([-0.4648, -1.7052, -0.2559, -0.3904])),\n",
              " Row(x_scaled=DenseVector([0.1135, -1.7052, -0.2559, -0.3904])),\n",
              " Row(x_scaled=DenseVector([-1.0432, -1.7052, -0.2559, -0.3904])),\n",
              " Row(x_scaled=DenseVector([-0.2913, -1.7052, -0.2559, -0.3904])),\n",
              " Row(x_scaled=DenseVector([-0.1178, -1.7052, -0.2559, -0.3904])),\n",
              " Row(x_scaled=DenseVector([0.5762, -1.7052, -0.2559, -0.3904])),\n",
              " Row(x_scaled=DenseVector([-0.754, -1.7052, -0.2559, -0.3904])),\n",
              " Row(x_scaled=DenseVector([0.6919, -1.7052, -0.2559, -0.3904])),\n",
              " Row(x_scaled=DenseVector([0.981, -1.7052, -0.2559, 0.876])),\n",
              " Row(x_scaled=DenseVector([-0.8697, -1.7052, -0.2559, -0.3904])),\n",
              " Row(x_scaled=DenseVector([-0.1178, -1.7052, -0.2559, -0.3904])),\n",
              " Row(x_scaled=DenseVector([0.981, -1.7052, -0.2559, -0.3904])),\n",
              " Row(x_scaled=DenseVector([-1.9107, -1.7052, -0.2559, 0.876])),\n",
              " Row(x_scaled=DenseVector([3.2366, -1.7052, -0.2559, -0.3904])),\n",
              " Row(x_scaled=DenseVector([0.0557, -1.7052, -0.2559, -0.3904])),\n",
              " Row(x_scaled=DenseVector([-0.9275, -1.7052, -0.2559, -0.3904])),\n",
              " Row(x_scaled=DenseVector([0.3449, -1.7052, -0.2559, -0.3904])),\n",
              " Row(x_scaled=DenseVector([2.9474, -1.7052, -0.2559, -0.3904])),\n",
              " Row(x_scaled=DenseVector([-0.6962, -1.7052, -0.2559, -0.3904])),\n",
              " Row(x_scaled=DenseVector([-0.8118, -1.7052, -0.2559, -0.3904])),\n",
              " Row(x_scaled=DenseVector([0.2292, -1.7052, -0.2559, -0.3904])),\n",
              " Row(x_scaled=DenseVector([1.328, -1.7052, -0.2559, -0.3904])),\n",
              " Row(x_scaled=DenseVector([-0.8118, -1.7052, -0.2559, -0.3904])),\n",
              " Row(x_scaled=DenseVector([2.9474, -1.7052, -0.2559, -0.3904])),\n",
              " Row(x_scaled=DenseVector([0.4027, -1.7052, -0.2559, -0.3904])),\n",
              " Row(x_scaled=DenseVector([3.1787, -1.7052, -0.2559, 2.1425])),\n",
              " Row(x_scaled=DenseVector([0.0557, -1.7052, -0.2559, -0.3904])),\n",
              " Row(x_scaled=DenseVector([1.4437, -1.7052, -0.2559, 4.6754])),\n",
              " Row(x_scaled=DenseVector([2.1955, -1.7052, -0.2559, -0.3904])),\n",
              " Row(x_scaled=DenseVector([-1.9685, -1.7052, -0.2559, -0.3904])),\n",
              " Row(x_scaled=DenseVector([0.2292, -1.7052, -0.2559, -0.3904])),\n",
              " Row(x_scaled=DenseVector([-0.2335, -1.7052, -0.2559, -0.3904])),\n",
              " Row(x_scaled=DenseVector([0.7497, -1.7052, -0.2559, -0.3904])),\n",
              " Row(x_scaled=DenseVector([-0.2913, -1.7052, -0.2559, -0.3904])),\n",
              " Row(x_scaled=DenseVector([-0.6962, -1.7052, -0.2559, -0.3904])),\n",
              " Row(x_scaled=DenseVector([3.0631, -1.7052, -0.2559, -0.3904])),\n",
              " Row(x_scaled=DenseVector([-1.9685, -1.7052, -0.2559, -0.3904])),\n",
              " Row(x_scaled=DenseVector([0.7497, -1.7052, -0.2559, -0.3904])),\n",
              " Row(x_scaled=DenseVector([-0.9853, -1.7052, -0.2559, -0.3904])),\n",
              " Row(x_scaled=DenseVector([-1.9685, -1.7052, -0.2559, -0.3904])),\n",
              " Row(x_scaled=DenseVector([0.2292, -1.7052, -0.2559, -0.3904])),\n",
              " Row(x_scaled=DenseVector([-0.2335, -1.7052, -0.2559, -0.3904])),\n",
              " Row(x_scaled=DenseVector([2.6004, -1.7052, -0.2559, -0.3904])),\n",
              " Row(x_scaled=DenseVector([-0.0022, -1.7052, -0.2559, -0.3904])),\n",
              " Row(x_scaled=DenseVector([-0.9275, -1.7052, -0.2559, -0.3904])),\n",
              " Row(x_scaled=DenseVector([-0.6383, -1.7052, -0.2559, -0.3904])),\n",
              " Row(x_scaled=DenseVector([0.9232, -1.7052, -0.2559, -0.3904])),\n",
              " Row(x_scaled=DenseVector([0.3449, -1.7052, -0.2559, -0.3904])),\n",
              " Row(x_scaled=DenseVector([-1.9685, -1.7052, -0.2559, -0.3904])),\n",
              " Row(x_scaled=DenseVector([-0.06, -1.7052, -0.2559, -0.3904])),\n",
              " Row(x_scaled=DenseVector([-0.0022, -1.7052, -0.2559, -0.3904])),\n",
              " Row(x_scaled=DenseVector([-0.8118, -1.7052, -0.2559, -0.3904])),\n",
              " Row(x_scaled=DenseVector([2.5425, -1.7052, -0.2559, -0.3904])),\n",
              " Row(x_scaled=DenseVector([-0.6962, -1.7052, -0.2559, -0.3904])),\n",
              " Row(x_scaled=DenseVector([-1.9685, -1.7052, -0.2559, -0.3904])),\n",
              " Row(x_scaled=DenseVector([-0.754, -1.7052, -0.2559, -0.3904])),\n",
              " Row(x_scaled=DenseVector([-0.9853, -1.7052, -0.2559, -0.3904])),\n",
              " Row(x_scaled=DenseVector([-0.1178, -1.7052, -0.2559, -0.3904])),\n",
              " Row(x_scaled=DenseVector([-0.4648, -1.7052, -0.2559, -0.3904])),\n",
              " Row(x_scaled=DenseVector([0.5762, -1.7052, -0.2559, -0.3904])),\n",
              " Row(x_scaled=DenseVector([0.8654, -1.7052, -0.2559, -0.3904])),\n",
              " Row(x_scaled=DenseVector([0.1713, -1.7052, -0.2559, -0.3904])),\n",
              " Row(x_scaled=DenseVector([0.634, -1.7052, -0.2559, -0.3904])),\n",
              " Row(x_scaled=DenseVector([-0.9275, -1.7052, -0.2559, -0.3904])),\n",
              " Row(x_scaled=DenseVector([-0.1757, -1.7052, -0.2559, -0.3904])),\n",
              " Row(x_scaled=DenseVector([0.3449, -1.7052, -0.2559, -0.3904])),\n",
              " Row(x_scaled=DenseVector([0.1713, -1.7052, 1.3187, -0.3904])),\n",
              " Row(x_scaled=DenseVector([2.6004, -1.7052, -0.2559, -0.3904])),\n",
              " Row(x_scaled=DenseVector([0.287, -1.7052, -0.2559, -0.3904])),\n",
              " Row(x_scaled=DenseVector([-1.5637, -1.7052, -0.2559, -0.3904])),\n",
              " Row(x_scaled=DenseVector([3.1209, -1.7052, -0.2559, 0.876])),\n",
              " Row(x_scaled=DenseVector([0.287, -1.7052, -0.2559, -0.3904])),\n",
              " Row(x_scaled=DenseVector([-0.754, -1.7052, -0.2559, 2.1425])),\n",
              " Row(x_scaled=DenseVector([1.2124, -1.7052, -0.2559, -0.3904])),\n",
              " Row(x_scaled=DenseVector([-0.5805, -1.7052, -0.2559, -0.3904])),\n",
              " Row(x_scaled=DenseVector([-0.0022, -1.7052, -0.2559, -0.3904])),\n",
              " Row(x_scaled=DenseVector([1.2702, -1.7052, -0.2559, -0.3904])),\n",
              " Row(x_scaled=DenseVector([-1.5058, -1.7052, -0.2559, -0.3904])),\n",
              " Row(x_scaled=DenseVector([1.9064, -1.7052, -0.2559, -0.3904])),\n",
              " Row(x_scaled=DenseVector([-1.6215, -1.7052, 4.4679, -0.3904])),\n",
              " Row(x_scaled=DenseVector([-1.5637, -1.7052, 4.4679, -0.3904])),\n",
              " Row(x_scaled=DenseVector([-1.2745, -1.7052, 4.4679, -0.3904])),\n",
              " Row(x_scaled=DenseVector([-0.2913, -1.7052, 4.4679, -0.3904])),\n",
              " Row(x_scaled=DenseVector([-1.9107, -1.7052, -0.2559, -0.3904])),\n",
              " Row(x_scaled=DenseVector([-0.407, -1.7052, -0.2559, -0.3904])),\n",
              " Row(x_scaled=DenseVector([0.1135, -1.7052, -0.2559, -0.3904])),\n",
              " Row(x_scaled=DenseVector([-1.2167, -1.7052, -0.2559, -0.3904])),\n",
              " Row(x_scaled=DenseVector([-1.9107, -1.7052, -0.2559, -0.3904])),\n",
              " Row(x_scaled=DenseVector([-0.2913, -1.7052, -0.2559, -0.3904])),\n",
              " Row(x_scaled=DenseVector([0.287, -1.7052, -0.2559, -0.3904])),\n",
              " Row(x_scaled=DenseVector([-0.2913, -1.7052, -0.2559, 0.876])),\n",
              " Row(x_scaled=DenseVector([-0.8118, -1.7052, 1.3187, 0.876])),\n",
              " Row(x_scaled=DenseVector([-0.754, -1.7052, 1.3187, 0.876])),\n",
              " Row(x_scaled=DenseVector([0.5184, -1.7052, -0.2559, 2.1425])),\n",
              " Row(x_scaled=DenseVector([-0.5805, -1.7052, -0.2559, -0.3904])),\n",
              " Row(x_scaled=DenseVector([-0.8697, -1.7052, -0.2559, 4.6754])),\n",
              " Row(x_scaled=DenseVector([0.287, -1.7052, -0.2559, 3.4089])),\n",
              " Row(x_scaled=DenseVector([-1.8528, -1.7052, -0.2559, 0.876])),\n",
              " Row(x_scaled=DenseVector([-0.2335, -1.7052, -0.2559, -0.3904])),\n",
              " Row(x_scaled=DenseVector([-0.9853, -1.7052, -0.2559, 0.876])),\n",
              " Row(x_scaled=DenseVector([-1.1588, -1.7052, -0.2559, -0.3904])),\n",
              " Row(x_scaled=DenseVector([-0.0022, -1.7052, -0.2559, 2.1425])),\n",
              " Row(x_scaled=DenseVector([-0.5227, -1.7052, -0.2559, 5.9418])),\n",
              " Row(x_scaled=DenseVector([-0.9275, -1.7052, -0.2559, 2.1425])),\n",
              " Row(x_scaled=DenseVector([1.2702, -1.7052, -0.2559, -0.3904])),\n",
              " Row(x_scaled=DenseVector([0.0557, -1.7052, -0.2559, -0.3904])),\n",
              " Row(x_scaled=DenseVector([-0.4648, -1.7052, -0.2559, -0.3904])),\n",
              " Row(x_scaled=DenseVector([1.0967, -1.7052, -0.2559, -0.3904])),\n",
              " Row(x_scaled=DenseVector([2.022, -1.7052, -0.2559, -0.3904])),\n",
              " Row(x_scaled=DenseVector([-0.1178, -1.7052, -0.2559, -0.3904])),\n",
              " Row(x_scaled=DenseVector([0.4027, -1.7052, -0.2559, -0.3904])),\n",
              " Row(x_scaled=DenseVector([-0.407, -1.7052, 2.8933, -0.3904])),\n",
              " Row(x_scaled=DenseVector([-1.5058, -1.7052, 2.8933, -0.3904])),\n",
              " Row(x_scaled=DenseVector([-1.6215, -1.7052, 2.8933, -0.3904])),\n",
              " Row(x_scaled=DenseVector([-0.1757, -1.7052, -0.2559, -0.3904])),\n",
              " Row(x_scaled=DenseVector([-0.8697, -1.7052, -0.2559, 4.6754])),\n",
              " Row(x_scaled=DenseVector([-0.8118, -1.7052, 1.3187, -0.3904])),\n",
              " Row(x_scaled=DenseVector([-0.9275, -1.7052, 1.3187, -0.3904])),\n",
              " Row(x_scaled=DenseVector([2.8896, -1.7052, -0.2559, 3.4089])),\n",
              " Row(x_scaled=DenseVector([2.4269, -1.7052, -0.2559, 0.876])),\n",
              " Row(x_scaled=DenseVector([-0.5227, -1.7052, -0.2559, 0.876])),\n",
              " Row(x_scaled=DenseVector([1.328, -1.7052, -0.2559, -0.3904])),\n",
              " Row(x_scaled=DenseVector([-0.9275, -1.7052, -0.2559, -0.3904])),\n",
              " Row(x_scaled=DenseVector([0.8075, -1.7052, -0.2559, -0.3904])),\n",
              " Row(x_scaled=DenseVector([1.5015, -1.7052, -0.2559, -0.3904])),\n",
              " Row(x_scaled=DenseVector([-0.2913, -1.7052, -0.2559, -0.3904])),\n",
              " Row(x_scaled=DenseVector([0.6919, -1.7052, -0.2559, -0.3904])),\n",
              " Row(x_scaled=DenseVector([0.5762, -1.7052, 2.8933, -0.3904])),\n",
              " Row(x_scaled=DenseVector([0.3449, -1.7052, 2.8933, -0.3904])),\n",
              " Row(x_scaled=DenseVector([0.4605, -1.7052, 2.8933, -0.3904])),\n",
              " Row(x_scaled=DenseVector([0.8654, -1.7052, -0.2559, -0.3904])),\n",
              " Row(x_scaled=DenseVector([0.7497, -1.7052, -0.2559, -0.3904])),\n",
              " Row(x_scaled=DenseVector([-0.407, -1.7052, -0.2559, -0.3904])),\n",
              " Row(x_scaled=DenseVector([0.7497, -1.7052, -0.2559, -0.3904])),\n",
              " Row(x_scaled=DenseVector([0.8654, -1.7052, -0.2559, -0.3904])),\n",
              " Row(x_scaled=DenseVector([0.5184, -1.7052, -0.2559, -0.3904])),\n",
              " Row(x_scaled=DenseVector([0.8654, -1.7052, -0.2559, -0.3904])),\n",
              " Row(x_scaled=DenseVector([-0.2913, -1.7052, -0.2559, -0.3904])),\n",
              " Row(x_scaled=DenseVector([-0.1178, -1.7052, -0.2559, -0.3904])),\n",
              " Row(x_scaled=DenseVector([-0.6383, -1.7052, -0.2559, -0.3904])),\n",
              " Row(x_scaled=DenseVector([-0.2913, -1.7052, -0.2559, -0.3904])),\n",
              " Row(x_scaled=DenseVector([1.8485, -1.7052, -0.2559, -0.3904])),\n",
              " Row(x_scaled=DenseVector([1.5015, -1.7052, -0.2559, -0.3904])),\n",
              " Row(x_scaled=DenseVector([0.0557, -1.7052, 1.3187, -0.3904])),\n",
              " Row(x_scaled=DenseVector([-0.2913, -1.7052, 1.3187, -0.3904])),\n",
              " Row(x_scaled=DenseVector([1.7907, -1.7052, -0.2559, -0.3904])),\n",
              " Row(x_scaled=DenseVector([-0.2335, -1.7052, -0.2559, 0.876])),\n",
              " Row(x_scaled=DenseVector([2.4847, -1.7052, -0.2559, -0.3904])),\n",
              " Row(x_scaled=DenseVector([0.3449, -1.7052, -0.2559, -0.3904])),\n",
              " Row(x_scaled=DenseVector([0.7497, -1.7052, -0.2559, -0.3904])),\n",
              " Row(x_scaled=DenseVector([-1.795, -1.7052, 1.3187, -0.3904])),\n",
              " Row(x_scaled=DenseVector([-0.407, -1.7052, 1.3187, -0.3904])),\n",
              " Row(x_scaled=DenseVector([-0.754, -1.7052, -0.2559, -0.3904])),\n",
              " Row(x_scaled=DenseVector([-0.2335, -1.7052, -0.2559, -0.3904])),\n",
              " Row(x_scaled=DenseVector([1.7907, -1.7052, -0.2559, -0.3904])),\n",
              " Row(x_scaled=DenseVector([-0.8118, -1.7052, -0.2559, -0.3904])),\n",
              " Row(x_scaled=DenseVector([-0.5227, -1.7052, -0.2559, -0.3904])),\n",
              " Row(x_scaled=DenseVector([-0.6383, -1.7052, -0.2559, -0.3904])),\n",
              " Row(x_scaled=DenseVector([-0.407, -1.7052, -0.2559, -0.3904])),\n",
              " Row(x_scaled=DenseVector([-0.1178, -1.7052, -0.2559, -0.3904])),\n",
              " Row(x_scaled=DenseVector([-1.8528, -1.7052, -0.2559, 0.876])),\n",
              " Row(x_scaled=DenseVector([-1.1588, -1.7052, -0.2559, -0.3904])),\n",
              " Row(x_scaled=DenseVector([-0.9275, -1.7052, 2.8933, -0.3904])),\n",
              " Row(x_scaled=DenseVector([-0.8697, -1.7052, 2.8933, -0.3904])),\n",
              " Row(x_scaled=DenseVector([-0.6962, -1.7052, -0.2559, -0.3904])),\n",
              " Row(x_scaled=DenseVector([0.7497, -1.7052, -0.2559, -0.3904])),\n",
              " Row(x_scaled=DenseVector([-0.1178, -1.7052, -0.2559, 0.876])),\n",
              " Row(x_scaled=DenseVector([0.0557, -1.7052, -0.2559, -0.3904])),\n",
              " Row(x_scaled=DenseVector([0.0557, -1.7052, -0.2559, -0.3904])),\n",
              " Row(x_scaled=DenseVector([0.634, -1.7052, -0.2559, 2.1425])),\n",
              " Row(x_scaled=DenseVector([-0.8118, -1.7052, -0.2559, -0.3904])),\n",
              " Row(x_scaled=DenseVector([-1.0432, -1.7052, -0.2559, -0.3904])),\n",
              " Row(x_scaled=DenseVector([-0.754, -1.7052, -0.2559, 0.876])),\n",
              " Row(x_scaled=DenseVector([-0.1178, -1.7052, -0.2559, -0.3904])),\n",
              " Row(x_scaled=DenseVector([-0.06, -1.7052, -0.2559, -0.3904])),\n",
              " Row(x_scaled=DenseVector([-0.0022, -1.7052, -0.2559, -0.3904])),\n",
              " Row(x_scaled=DenseVector([0.3449, -1.7052, -0.2559, -0.3904])),\n",
              " Row(x_scaled=DenseVector([0.634, -1.7052, -0.2559, -0.3904])),\n",
              " Row(x_scaled=DenseVector([-1.9685, -1.7052, -0.2559, -0.3904])),\n",
              " Row(x_scaled=DenseVector([2.5425, -1.7052, -0.2559, -0.3904])),\n",
              " Row(x_scaled=DenseVector([0.2292, -1.7052, -0.2559, -0.3904])),\n",
              " Row(x_scaled=DenseVector([-0.3492, -1.7052, -0.2559, -0.3904])),\n",
              " Row(x_scaled=DenseVector([-0.8697, -1.7052, -0.2559, -0.3904])),\n",
              " Row(x_scaled=DenseVector([0.3449, -1.7052, -0.2559, -0.3904])),\n",
              " Row(x_scaled=DenseVector([0.1713, -1.7052, -0.2559, -0.3904])),\n",
              " Row(x_scaled=DenseVector([0.1135, -1.7052, -0.2559, -0.3904])),\n",
              " Row(x_scaled=DenseVector([-1.8528, -1.7052, -0.2559, -0.3904])),\n",
              " Row(x_scaled=DenseVector([-1.795, -1.7052, -0.2559, -0.3904])),\n",
              " Row(x_scaled=DenseVector([2.1377, -1.7052, -0.2559, -0.3904])),\n",
              " Row(x_scaled=DenseVector([-0.1178, -1.7052, -0.2559, 0.876])),\n",
              " Row(x_scaled=DenseVector([0.5762, -1.7052, -0.2559, -0.3904])),\n",
              " Row(x_scaled=DenseVector([0.1713, -1.7052, -0.2559, -0.3904])),\n",
              " Row(x_scaled=DenseVector([-0.2335, -1.7052, -0.2559, 0.876])),\n",
              " Row(x_scaled=DenseVector([-0.6962, -1.7052, -0.2559, -0.3904])),\n",
              " Row(x_scaled=DenseVector([-1.2167, -1.7052, -0.2559, 3.4089])),\n",
              " Row(x_scaled=DenseVector([3.1209, -1.7052, -0.2559, -0.3904])),\n",
              " Row(x_scaled=DenseVector([1.5015, -1.7052, -0.2559, -0.3904])),\n",
              " Row(x_scaled=DenseVector([1.675, -1.7052, -0.2559, -0.3904])),\n",
              " Row(x_scaled=DenseVector([-0.6383, -1.7052, -0.2559, -0.3904])),\n",
              " Row(x_scaled=DenseVector([0.5184, -1.7052, -0.2559, -0.3904])),\n",
              " Row(x_scaled=DenseVector([-0.1757, -1.7052, -0.2559, 0.876])),\n",
              " Row(x_scaled=DenseVector([-1.448, -1.7052, -0.2559, -0.3904])),\n",
              " Row(x_scaled=DenseVector([0.5762, -1.7052, -0.2559, -0.3904])),\n",
              " Row(x_scaled=DenseVector([-1.9685, -1.7052, -0.2559, -0.3904])),\n",
              " Row(x_scaled=DenseVector([1.5015, -1.7052, 1.3187, -0.3904])),\n",
              " Row(x_scaled=DenseVector([0.9232, -1.7052, 1.3187, -0.3904])),\n",
              " Row(x_scaled=DenseVector([-0.8697, -1.7052, -0.2559, -0.3904])),\n",
              " Row(x_scaled=DenseVector([-0.1178, -1.7052, -0.2559, -0.3904])),\n",
              " Row(x_scaled=DenseVector([1.3859, -1.7052, -0.2559, -0.3904])),\n",
              " Row(x_scaled=DenseVector([-0.5805, -1.7052, -0.2559, -0.3904])),\n",
              " Row(x_scaled=DenseVector([0.2292, -1.7052, -0.2559, -0.3904])),\n",
              " Row(x_scaled=DenseVector([1.7329, -1.7052, -0.2559, -0.3904])),\n",
              " Row(x_scaled=DenseVector([-0.407, -1.7052, -0.2559, -0.3904])),\n",
              " Row(x_scaled=DenseVector([-0.8118, -1.7052, 1.3187, -0.3904])),\n",
              " Row(x_scaled=DenseVector([-0.5805, -1.7052, 1.3187, -0.3904])),\n",
              " Row(x_scaled=DenseVector([-0.1757, -1.7052, -0.2559, 0.876])),\n",
              " Row(x_scaled=DenseVector([0.9232, -1.7052, -0.2559, -0.3904])),\n",
              " Row(x_scaled=DenseVector([-1.1588, -1.7052, -0.2559, -0.3904])),\n",
              " Row(x_scaled=DenseVector([-0.2335, -1.7052, -0.2559, -0.3904])),\n",
              " Row(x_scaled=DenseVector([-0.5227, -1.7052, -0.2559, -0.3904])),\n",
              " Row(x_scaled=DenseVector([-1.7372, -1.7052, -0.2559, -0.3904])),\n",
              " Row(x_scaled=DenseVector([0.4605, -1.7052, -0.2559, -0.3904])),\n",
              " Row(x_scaled=DenseVector([-1.9107, -1.7052, -0.2559, -0.3904])),\n",
              " Row(x_scaled=DenseVector([-0.8697, -1.7052, -0.2559, -0.3904])),\n",
              " Row(x_scaled=DenseVector([0.634, -1.7052, -0.2559, -0.3904])),\n",
              " Row(x_scaled=DenseVector([-0.407, -1.7052, 1.3187, -0.3904])),\n",
              " Row(x_scaled=DenseVector([-0.8118, -1.7052, 1.3187, -0.3904])),\n",
              " Row(x_scaled=DenseVector([-0.3492, -1.7052, -0.2559, 3.4089])),\n",
              " Row(x_scaled=DenseVector([-0.8118, -1.7052, -0.2559, 0.876])),\n",
              " Row(x_scaled=DenseVector([-1.9107, -1.7052, -0.2559, -0.3904])),\n",
              " Row(x_scaled=DenseVector([-0.2335, -1.7052, -0.2559, -0.3904])),\n",
              " Row(x_scaled=DenseVector([-0.9853, -1.7052, -0.2559, -0.3904])),\n",
              " Row(x_scaled=DenseVector([-0.8118, -1.7052, -0.2559, -0.3904])),\n",
              " Row(x_scaled=DenseVector([-1.2167, -1.7052, 1.3187, -0.3904])),\n",
              " Row(x_scaled=DenseVector([0.4027, -1.7052, 1.3187, -0.3904])),\n",
              " Row(x_scaled=DenseVector([-0.8118, -1.7052, -0.2559, -0.3904])),\n",
              " Row(x_scaled=DenseVector([-0.8697, -1.7052, -0.2559, -0.3904])),\n",
              " Row(x_scaled=DenseVector([-0.6962, -1.7052, -0.2559, -0.3904])),\n",
              " Row(x_scaled=DenseVector([-1.8528, -1.7052, -0.2559, -0.3904])),\n",
              " Row(x_scaled=DenseVector([-1.0432, -1.7052, -0.2559, -0.3904])),\n",
              " Row(x_scaled=DenseVector([0.1713, -1.7052, -0.2559, -0.3904])),\n",
              " Row(x_scaled=DenseVector([1.2702, -1.7052, -0.2559, -0.3904])),\n",
              " Row(x_scaled=DenseVector([1.2702, -1.7052, -0.2559, -0.3904])),\n",
              " Row(x_scaled=DenseVector([-0.1757, -1.7052, -0.2559, -0.3904])),\n",
              " Row(x_scaled=DenseVector([0.981, -1.7052, -0.2559, 0.876])),\n",
              " Row(x_scaled=DenseVector([-0.8697, -1.7052, -0.2559, 2.1425])),\n",
              " Row(x_scaled=DenseVector([-0.06, -1.7052, -0.2559, -0.3904])),\n",
              " Row(x_scaled=DenseVector([-0.1178, -1.7052, -0.2559, -0.3904])),\n",
              " Row(x_scaled=DenseVector([0.634, -1.7052, -0.2559, 0.876])),\n",
              " Row(x_scaled=DenseVector([1.5015, -1.7052, -0.2559, -0.3904])),\n",
              " Row(x_scaled=DenseVector([0.8654, -1.7052, -0.2559, -0.3904])),\n",
              " Row(x_scaled=DenseVector([-0.8118, -1.7052, -0.2559, 0.876])),\n",
              " Row(x_scaled=DenseVector([-0.8118, -1.7052, -0.2559, 2.1425])),\n",
              " Row(x_scaled=DenseVector([0.4027, -1.7052, -0.2559, -0.3904])),\n",
              " Row(x_scaled=DenseVector([-0.8118, -1.7052, -0.2559, 0.876])),\n",
              " Row(x_scaled=DenseVector([-0.5805, -1.7052, -0.2559, -0.3904])),\n",
              " Row(x_scaled=DenseVector([-0.4648, -1.7052, -0.2559, -0.3904])),\n",
              " Row(x_scaled=DenseVector([0.0557, -1.7052, -0.2559, -0.3904])),\n",
              " Row(x_scaled=DenseVector([-0.0022, -1.7052, -0.2559, -0.3904])),\n",
              " Row(x_scaled=DenseVector([-0.9275, -1.7052, -0.2559, -0.3904])),\n",
              " Row(x_scaled=DenseVector([-1.8528, -1.7052, -0.2559, -0.3904])),\n",
              " Row(x_scaled=DenseVector([-1.101, -1.7052, -0.2559, -0.3904])),\n",
              " Row(x_scaled=DenseVector([1.6172, -1.7052, -0.2559, -0.3904])),\n",
              " Row(x_scaled=DenseVector([0.1135, -1.7052, -0.2559, -0.3904])),\n",
              " Row(x_scaled=DenseVector([-0.2913, -1.7052, -0.2559, -0.3904])),\n",
              " Row(x_scaled=DenseVector([-0.9853, -1.7052, -0.2559, -0.3904])),\n",
              " Row(x_scaled=DenseVector([1.328, -1.7052, -0.2559, -0.3904])),\n",
              " Row(x_scaled=DenseVector([-0.8697, -1.7052, -0.2559, 2.1425])),\n",
              " Row(x_scaled=DenseVector([0.0557, -1.7052, -0.2559, -0.3904])),\n",
              " Row(x_scaled=DenseVector([1.8485, -1.7052, -0.2559, 2.1425])),\n",
              " Row(x_scaled=DenseVector([-0.8697, -1.7052, -0.2559, -0.3904])),\n",
              " Row(x_scaled=DenseVector([-0.9853, -1.7052, -0.2559, 0.876])),\n",
              " Row(x_scaled=DenseVector([-0.5227, -1.7052, -0.2559, 5.9418])),\n",
              " Row(x_scaled=DenseVector([-0.5227, -1.7052, -0.2559, -0.3904])),\n",
              " Row(x_scaled=DenseVector([0.4027, -1.7052, -0.2559, -0.3904])),\n",
              " Row(x_scaled=DenseVector([0.1135, -1.7052, -0.2559, -0.3904])),\n",
              " Row(x_scaled=DenseVector([0.981, -1.7052, -0.2559, -0.3904])),\n",
              " Row(x_scaled=DenseVector([-0.6383, -1.7052, -0.2559, -0.3904])),\n",
              " Row(x_scaled=DenseVector([-1.8528, -1.7052, -0.2559, -0.3904])),\n",
              " Row(x_scaled=DenseVector([-0.4648, -1.7052, -0.2559, -0.3904])),\n",
              " Row(x_scaled=DenseVector([-0.2913, -1.7052, -0.2559, 0.876])),\n",
              " Row(x_scaled=DenseVector([-0.6383, -1.7052, -0.2559, -0.3904])),\n",
              " Row(x_scaled=DenseVector([-0.4648, -1.7052, -0.2559, -0.3904])),\n",
              " Row(x_scaled=DenseVector([0.5762, -1.7052, -0.2559, -0.3904])),\n",
              " Row(x_scaled=DenseVector([3.1787, -1.7052, -0.2559, -0.3904])),\n",
              " Row(x_scaled=DenseVector([-0.6962, -1.7052, 1.3187, -0.3904])),\n",
              " Row(x_scaled=DenseVector([-0.5227, -1.7052, 1.3187, -0.3904])),\n",
              " Row(x_scaled=DenseVector([-0.754, -1.7052, -0.2559, -0.3904])),\n",
              " Row(x_scaled=DenseVector([-0.2335, -1.7052, -0.2559, -0.3904])),\n",
              " Row(x_scaled=DenseVector([-0.8697, -1.7052, 1.3187, -0.3904])),\n",
              " Row(x_scaled=DenseVector([-1.0432, -1.7052, 1.3187, -0.3904])),\n",
              " Row(x_scaled=DenseVector([2.3112, -1.7052, -0.2559, -0.3904])),\n",
              " Row(x_scaled=DenseVector([-1.2167, -1.7052, -0.2559, -0.3904])),\n",
              " Row(x_scaled=DenseVector([-1.9107, -1.7052, -0.2559, -0.3904])),\n",
              " Row(x_scaled=DenseVector([0.2292, -1.7052, -0.2559, -0.3904])),\n",
              " Row(x_scaled=DenseVector([1.5594, -1.7052, -0.2559, -0.3904])),\n",
              " Row(x_scaled=DenseVector([-0.6962, -1.7052, -0.2559, -0.3904])),\n",
              " Row(x_scaled=DenseVector([1.5015, -1.7052, -0.2559, -0.3904])),\n",
              " Row(x_scaled=DenseVector([-0.8697, -1.7052, -0.2559, -0.3904])),\n",
              " Row(x_scaled=DenseVector([0.8075, -1.7052, -0.2559, 0.876])),\n",
              " Row(x_scaled=DenseVector([-0.9853, -1.7052, -0.2559, 3.4089])),\n",
              " Row(x_scaled=DenseVector([0.5762, -1.7052, -0.2559, -0.3904])),\n",
              " Row(x_scaled=DenseVector([-0.9853, -1.7052, -0.2559, -0.3904])),\n",
              " Row(x_scaled=DenseVector([-1.0432, -1.7052, -0.2559, -0.3904])),\n",
              " Row(x_scaled=DenseVector([0.7497, -1.7052, -0.2559, -0.3904])),\n",
              " Row(x_scaled=DenseVector([2.0799, -1.7052, -0.2559, -0.3904])),\n",
              " Row(x_scaled=DenseVector([-0.5805, -1.7052, -0.2559, -0.3904])),\n",
              " Row(x_scaled=DenseVector([-0.8118, -1.7052, -0.2559, -0.3904])),\n",
              " Row(x_scaled=DenseVector([-0.5227, -1.7052, -0.2559, -0.3904])),\n",
              " Row(x_scaled=DenseVector([0.1135, -1.7052, -0.2559, -0.3904])),\n",
              " Row(x_scaled=DenseVector([-0.0022, -1.7052, -0.2559, -0.3904])),\n",
              " Row(x_scaled=DenseVector([1.0389, -1.7052, 1.3187, -0.3904])),\n",
              " Row(x_scaled=DenseVector([-0.0022, -1.7052, 1.3187, -0.3904])),\n",
              " Row(x_scaled=DenseVector([0.0557, -1.7052, -0.2559, -0.3904])),\n",
              " Row(x_scaled=DenseVector([-0.9275, -1.7052, -0.2559, -0.3904])),\n",
              " Row(x_scaled=DenseVector([-1.9107, -1.7052, -0.2559, -0.3904])),\n",
              " Row(x_scaled=DenseVector([-0.06, -1.7052, -0.2559, -0.3904])),\n",
              " Row(x_scaled=DenseVector([-0.2335, -1.7052, -0.2559, -0.3904])),\n",
              " Row(x_scaled=DenseVector([-1.8528, -1.7052, -0.2559, -0.3904])),\n",
              " Row(x_scaled=DenseVector([-0.3492, -1.7052, -0.2559, -0.3904])),\n",
              " Row(x_scaled=DenseVector([-0.3492, -1.7052, -0.2559, 0.876])),\n",
              " Row(x_scaled=DenseVector([-0.8118, -1.7052, -0.2559, -0.3904])),\n",
              " Row(x_scaled=DenseVector([-0.5227, -1.7052, -0.2559, 0.876])),\n",
              " Row(x_scaled=DenseVector([-0.1178, -1.7052, -0.2559, -0.3904])),\n",
              " Row(x_scaled=DenseVector([-0.1757, -1.7052, -0.2559, -0.3904])),\n",
              " Row(x_scaled=DenseVector([-0.5227, -1.7052, -0.2559, -0.3904])),\n",
              " Row(x_scaled=DenseVector([0.0557, -1.7052, -0.2559, -0.3904])),\n",
              " Row(x_scaled=DenseVector([-0.8697, -1.7052, -0.2559, -0.3904])),\n",
              " Row(x_scaled=DenseVector([-0.06, -1.7052, -0.2559, -0.3904])),\n",
              " Row(x_scaled=DenseVector([1.2702, -1.7052, -0.2559, -0.3904])),\n",
              " Row(x_scaled=DenseVector([-0.1757, -1.7052, -0.2559, -0.3904])),\n",
              " Row(x_scaled=DenseVector([-0.6962, -1.7052, -0.2559, -0.3904])),\n",
              " Row(x_scaled=DenseVector([-1.8528, -1.7052, -0.2559, -0.3904])),\n",
              " Row(x_scaled=DenseVector([-0.8697, -1.7052, -0.2559, -0.3904])),\n",
              " Row(x_scaled=DenseVector([1.2124, -1.7052, -0.2559, -0.3904])),\n",
              " Row(x_scaled=DenseVector([-0.5227, -1.7052, -0.2559, 0.876])),\n",
              " Row(x_scaled=DenseVector([-1.795, -1.7052, -0.2559, -0.3904])),\n",
              " Row(x_scaled=DenseVector([0.0557, -1.7052, -0.2559, -0.3904])),\n",
              " Row(x_scaled=DenseVector([-0.0022, -1.7052, -0.2559, -0.3904])),\n",
              " Row(x_scaled=DenseVector([-0.1757, -1.7052, -0.2559, -0.3904])),\n",
              " Row(x_scaled=DenseVector([-0.754, -1.7052, -0.2559, 0.876])),\n",
              " Row(x_scaled=DenseVector([-0.8697, -1.7052, -0.2559, 3.4089])),\n",
              " Row(x_scaled=DenseVector([-0.06, -1.7052, -0.2559, -0.3904])),\n",
              " Row(x_scaled=DenseVector([0.287, -1.7052, -0.2559, 0.876])),\n",
              " Row(x_scaled=DenseVector([-0.0022, -1.7052, -0.2559, -0.3904])),\n",
              " Row(x_scaled=DenseVector([-0.1757, -1.7052, -0.2559, -0.3904])),\n",
              " Row(x_scaled=DenseVector([0.0557, -1.7052, -0.2559, -0.3904])),\n",
              " Row(x_scaled=DenseVector([1.2124, -1.7052, -0.2559, -0.3904])),\n",
              " Row(x_scaled=DenseVector([0.6919, -1.7052, -0.2559, -0.3904])),\n",
              " Row(x_scaled=DenseVector([-0.8118, -1.7052, -0.2559, -0.3904])),\n",
              " Row(x_scaled=DenseVector([-0.1757, -1.7052, -0.2559, -0.3904])),\n",
              " Row(x_scaled=DenseVector([0.4605, -1.7052, -0.2559, 0.876])),\n",
              " Row(x_scaled=DenseVector([-0.06, -1.7052, -0.2559, -0.3904])),\n",
              " Row(x_scaled=DenseVector([-0.3492, -1.7052, -0.2559, 0.876])),\n",
              " Row(x_scaled=DenseVector([0.0557, -1.7052, -0.2559, 0.876])),\n",
              " Row(x_scaled=DenseVector([-0.06, -1.7052, -0.2559, -0.3904])),\n",
              " Row(x_scaled=DenseVector([0.8075, -1.7052, -0.2559, -0.3904])),\n",
              " Row(x_scaled=DenseVector([-0.3492, -1.7052, -0.2559, -0.3904])),\n",
              " Row(x_scaled=DenseVector([-0.8697, -1.7052, -0.2559, -0.3904])),\n",
              " Row(x_scaled=DenseVector([-0.5227, -1.7052, -0.2559, -0.3904])),\n",
              " Row(x_scaled=DenseVector([0.5184, -1.7052, -0.2559, -0.3904])),\n",
              " Row(x_scaled=DenseVector([0.4605, -1.7052, -0.2559, -0.3904])),\n",
              " Row(x_scaled=DenseVector([-0.754, -1.7052, -0.2559, -0.3904])),\n",
              " Row(x_scaled=DenseVector([-1.0432, -1.7052, -0.2559, -0.3904])),\n",
              " Row(x_scaled=DenseVector([-0.2335, -1.7052, -0.2559, -0.3904])),\n",
              " Row(x_scaled=DenseVector([0.1713, -1.7052, -0.2559, -0.3904])),\n",
              " Row(x_scaled=DenseVector([0.4605, -1.7052, -0.2559, -0.3904])),\n",
              " Row(x_scaled=DenseVector([-1.2167, -1.7052, -0.2559, 0.876])),\n",
              " Row(x_scaled=DenseVector([-0.6962, -1.7052, -0.2559, 3.4089])),\n",
              " Row(x_scaled=DenseVector([-0.6962, -1.7052, -0.2559, -0.3904])),\n",
              " Row(x_scaled=DenseVector([-1.9685, -1.7052, -0.2559, -0.3904])),\n",
              " Row(x_scaled=DenseVector([-0.1178, -1.7052, -0.2559, -0.3904])),\n",
              " Row(x_scaled=DenseVector([-0.4648, -1.7052, -0.2559, 0.876])),\n",
              " Row(x_scaled=DenseVector([0.5762, -1.7052, -0.2559, -0.3904])),\n",
              " Row(x_scaled=DenseVector([-1.9685, -1.7052, -0.2559, -0.3904])),\n",
              " Row(x_scaled=DenseVector([-0.8118, -1.7052, -0.2559, -0.3904])),\n",
              " Row(x_scaled=DenseVector([-0.2913, -1.7052, -0.2559, -0.3904])),\n",
              " Row(x_scaled=DenseVector([0.5184, -1.7052, -0.2559, -0.3904])),\n",
              " Row(x_scaled=DenseVector([-0.5227, -1.7052, -0.2559, 0.876])),\n",
              " Row(x_scaled=DenseVector([0.287, -1.7052, -0.2559, -0.3904])),\n",
              " Row(x_scaled=DenseVector([-0.754, -1.7052, -0.2559, -0.3904])),\n",
              " Row(x_scaled=DenseVector([0.287, -1.7052, -0.2559, -0.3904])),\n",
              " Row(x_scaled=DenseVector([-0.754, -1.7052, -0.2559, -0.3904])),\n",
              " Row(x_scaled=DenseVector([-0.6383, -1.7052, -0.2559, 2.1425])),\n",
              " Row(x_scaled=DenseVector([0.4027, -1.7052, -0.2559, -0.3904])),\n",
              " Row(x_scaled=DenseVector([-0.9275, -1.7052, -0.2559, -0.3904])),\n",
              " Row(x_scaled=DenseVector([0.1135, -1.7052, -0.2559, -0.3904])),\n",
              " Row(x_scaled=DenseVector([0.1713, -1.7052, -0.2559, 0.876])),\n",
              " Row(x_scaled=DenseVector([0.5184, -1.7052, -0.2559, 2.1425])),\n",
              " Row(x_scaled=DenseVector([-0.2913, -1.7052, -0.2559, -0.3904])),\n",
              " Row(x_scaled=DenseVector([-0.6962, -1.7052, -0.2559, -0.3904])),\n",
              " Row(x_scaled=DenseVector([-0.4648, -1.7052, -0.2559, -0.3904])),\n",
              " Row(x_scaled=DenseVector([-0.8697, -1.7052, -0.2559, -0.3904])),\n",
              " Row(x_scaled=DenseVector([0.2292, -1.7052, -0.2559, -0.3904])),\n",
              " Row(x_scaled=DenseVector([-0.9853, -1.7052, -0.2559, 0.876])),\n",
              " Row(x_scaled=DenseVector([-0.8697, -1.7052, -0.2559, -0.3904])),\n",
              " Row(x_scaled=DenseVector([-0.4648, -1.7052, -0.2559, -0.3904])),\n",
              " Row(x_scaled=DenseVector([-0.2913, -1.7052, -0.2559, 0.876])),\n",
              " Row(x_scaled=DenseVector([0.287, -1.7052, -0.2559, -0.3904])),\n",
              " Row(x_scaled=DenseVector([-0.754, -1.7052, -0.2559, -0.3904])),\n",
              " Row(x_scaled=DenseVector([-0.6962, -1.7052, -0.2559, -0.3904])),\n",
              " Row(x_scaled=DenseVector([-0.407, -1.7052, -0.2559, -0.3904])),\n",
              " Row(x_scaled=DenseVector([1.7907, -1.7052, -0.2559, -0.3904])),\n",
              " Row(x_scaled=DenseVector([-0.3492, -1.7052, -0.2559, -0.3904])),\n",
              " Row(x_scaled=DenseVector([0.6919, -1.7052, -0.2559, 0.876])),\n",
              " Row(x_scaled=DenseVector([-0.1757, -1.7052, -0.2559, -0.3904])),\n",
              " Row(x_scaled=DenseVector([-1.1588, -1.7052, -0.2559, -0.3904])),\n",
              " Row(x_scaled=DenseVector([-0.2335, -1.7052, -0.2559, 0.876])),\n",
              " Row(x_scaled=DenseVector([-0.0022, -1.7052, -0.2559, -0.3904])),\n",
              " Row(x_scaled=DenseVector([0.7497, -1.7052, -0.2559, -0.3904])),\n",
              " Row(x_scaled=DenseVector([-0.2335, -1.7052, -0.2559, -0.3904])),\n",
              " Row(x_scaled=DenseVector([-0.8697, -1.7052, -0.2559, -0.3904])),\n",
              " Row(x_scaled=DenseVector([-0.0022, -1.7052, -0.2559, -0.3904])),\n",
              " Row(x_scaled=DenseVector([-0.9853, -1.7052, -0.2559, -0.3904])),\n",
              " Row(x_scaled=DenseVector([-0.06, -1.7052, -0.2559, -0.3904])),\n",
              " Row(x_scaled=DenseVector([-0.06, -1.7052, -0.2559, -0.3904])),\n",
              " Row(x_scaled=DenseVector([0.2292, -1.7052, -0.2559, -0.3904])),\n",
              " Row(x_scaled=DenseVector([0.3449, -1.7052, -0.2559, -0.3904])),\n",
              " Row(x_scaled=DenseVector([1.6172, -1.7052, -0.2559, -0.3904])),\n",
              " Row(x_scaled=DenseVector([-0.5227, -1.7052, -0.2559, -0.3904])),\n",
              " Row(x_scaled=DenseVector([-0.5227, -1.7052, -0.2559, -0.3904])),\n",
              " Row(x_scaled=DenseVector([-1.101, -1.7052, 1.3187, -0.3904])),\n",
              " Row(x_scaled=DenseVector([-1.1588, -1.7052, 1.3187, -0.3904])),\n",
              " Row(x_scaled=DenseVector([-1.9107, -1.7052, -0.2559, -0.3904])),\n",
              " Row(x_scaled=DenseVector([-0.6962, -1.7052, -0.2559, -0.3904])),\n",
              " Row(x_scaled=DenseVector([-0.06, -1.7052, -0.2559, 0.876])),\n",
              " Row(x_scaled=DenseVector([-0.8118, -1.7052, -0.2559, 0.876])),\n",
              " Row(x_scaled=DenseVector([0.5762, -1.7052, -0.2559, 2.1425])),\n",
              " Row(x_scaled=DenseVector([-0.1757, -1.7052, -0.2559, -0.3904])),\n",
              " Row(x_scaled=DenseVector([-0.06, -1.7052, -0.2559, -0.3904])),\n",
              " Row(x_scaled=DenseVector([0.634, -1.7052, -0.2559, -0.3904])),\n",
              " Row(x_scaled=DenseVector([-0.2335, -1.7052, -0.2559, -0.3904])),\n",
              " Row(x_scaled=DenseVector([0.7497, -1.7052, -0.2559, -0.3904])),\n",
              " Row(x_scaled=DenseVector([-0.0022, -1.7052, -0.2559, -0.3904])),\n",
              " Row(x_scaled=DenseVector([-0.1178, -1.7052, -0.2559, -0.3904])),\n",
              " Row(x_scaled=DenseVector([-0.1178, -1.7052, -0.2559, -0.3904])),\n",
              " Row(x_scaled=DenseVector([-0.3492, -1.7052, -0.2559, 0.876])),\n",
              " Row(x_scaled=DenseVector([-0.754, -1.7052, -0.2559, -0.3904])),\n",
              " Row(x_scaled=DenseVector([-0.2913, -1.7052, -0.2559, -0.3904])),\n",
              " Row(x_scaled=DenseVector([-0.754, -1.7052, -0.2559, -0.3904])),\n",
              " Row(x_scaled=DenseVector([0.3449, -1.7052, -0.2559, -0.3904])),\n",
              " Row(x_scaled=DenseVector([0.3449, -1.7052, -0.2559, 0.876])),\n",
              " Row(x_scaled=DenseVector([0.1713, -1.7052, -0.2559, -0.3904])),\n",
              " Row(x_scaled=DenseVector([0.3449, -1.7052, -0.2559, -0.3904])),\n",
              " Row(x_scaled=DenseVector([0.5762, -1.7052, -0.2559, 2.1425])),\n",
              " Row(x_scaled=DenseVector([-0.754, -1.7052, -0.2559, -0.3904])),\n",
              " Row(x_scaled=DenseVector([-0.5805, -1.7052, 1.3187, -0.3904])),\n",
              " Row(x_scaled=DenseVector([-0.754, -1.7052, 1.3187, -0.3904])),\n",
              " Row(x_scaled=DenseVector([-0.3492, -1.7052, -0.2559, -0.3904])),\n",
              " Row(x_scaled=DenseVector([-0.5805, -1.7052, -0.2559, -0.3904])),\n",
              " Row(x_scaled=DenseVector([0.4027, -1.7052, -0.2559, -0.3904])),\n",
              " Row(x_scaled=DenseVector([-1.9685, -1.7052, -0.2559, 2.1425])),\n",
              " Row(x_scaled=DenseVector([-0.754, -1.7052, -0.2559, -0.3904])),\n",
              " Row(x_scaled=DenseVector([-0.4648, -1.7052, -0.2559, -0.3904])),\n",
              " Row(x_scaled=DenseVector([-0.8118, -1.7052, -0.2559, -0.3904])),\n",
              " Row(x_scaled=DenseVector([1.0389, -1.7052, -0.2559, -0.3904])),\n",
              " Row(x_scaled=DenseVector([-0.8697, -1.7052, -0.2559, -0.3904])),\n",
              " Row(x_scaled=DenseVector([0.8654, -1.7052, -0.2559, -0.3904])),\n",
              " Row(x_scaled=DenseVector([0.9232, -1.7052, -0.2559, -0.3904])),\n",
              " Row(x_scaled=DenseVector([-0.5805, -1.7052, -0.2559, -0.3904])),\n",
              " Row(x_scaled=DenseVector([-0.1757, -1.7052, -0.2559, -0.3904])),\n",
              " Row(x_scaled=DenseVector([0.634, -1.7052, -0.2559, -0.3904])),\n",
              " Row(x_scaled=DenseVector([-0.3492, -1.7052, -0.2559, -0.3904])),\n",
              " Row(x_scaled=DenseVector([-1.9685, -1.7052, -0.2559, -0.3904])),\n",
              " Row(x_scaled=DenseVector([-0.8697, -1.7052, -0.2559, 0.876])),\n",
              " Row(x_scaled=DenseVector([-0.5227, -1.7052, -0.2559, -0.3904])),\n",
              " Row(x_scaled=DenseVector([-0.8118, -1.7052, -0.2559, -0.3904])),\n",
              " Row(x_scaled=DenseVector([-0.754, -1.7052, -0.2559, -0.3904])),\n",
              " Row(x_scaled=DenseVector([-0.5805, -1.7052, -0.2559, -0.3904])),\n",
              " Row(x_scaled=DenseVector([-0.5805, -1.7052, -0.2559, 0.876])),\n",
              " Row(x_scaled=DenseVector([0.8654, -1.7052, -0.2559, -0.3904])),\n",
              " Row(x_scaled=DenseVector([-0.2913, -1.7052, -0.2559, -0.3904])),\n",
              " Row(x_scaled=DenseVector([-0.6962, -1.7052, -0.2559, -0.3904])),\n",
              " Row(x_scaled=DenseVector([-0.9853, -1.7052, -0.2559, -0.3904])),\n",
              " Row(x_scaled=DenseVector([0.3449, -1.7052, -0.2559, -0.3904])),\n",
              " Row(x_scaled=DenseVector([0.1135, -1.7052, -0.2559, 0.876])),\n",
              " Row(x_scaled=DenseVector([-0.6383, -1.7052, -0.2559, -0.3904])),\n",
              " Row(x_scaled=DenseVector([-1.9107, -1.7052, -0.2559, 0.876])),\n",
              " Row(x_scaled=DenseVector([-0.6383, -1.7052, -0.2559, -0.3904])),\n",
              " Row(x_scaled=DenseVector([-0.8697, -1.7052, 1.3187, 0.876])),\n",
              " Row(x_scaled=DenseVector([-0.754, -1.7052, 1.3187, 0.876])),\n",
              " Row(x_scaled=DenseVector([-0.0022, -1.7052, -0.2559, -0.3904])),\n",
              " Row(x_scaled=DenseVector([-0.6962, -1.7052, -0.2559, 0.876])),\n",
              " Row(x_scaled=DenseVector([-0.407, -1.7052, -0.2559, -0.3904])),\n",
              " Row(x_scaled=DenseVector([0.5762, -1.7052, -0.2559, 0.876])),\n",
              " Row(x_scaled=DenseVector([0.5762, -1.7052, -0.2559, -0.3904])),\n",
              " Row(x_scaled=DenseVector([0.5184, -1.7052, -0.2559, -0.3904])),\n",
              " Row(x_scaled=DenseVector([-0.2913, -1.7052, 2.8933, 0.876])),\n",
              " Row(x_scaled=DenseVector([-0.6383, -1.7052, 2.8933, 0.876])),\n",
              " Row(x_scaled=DenseVector([-0.407, -1.7052, 2.8933, 0.876])),\n",
              " Row(x_scaled=DenseVector([-0.5805, -1.7052, -0.2559, -0.3904])),\n",
              " Row(x_scaled=DenseVector([-0.8118, -1.7052, -0.2559, -0.3904])),\n",
              " Row(x_scaled=DenseVector([-0.754, -1.7052, -0.2559, -0.3904])),\n",
              " Row(x_scaled=DenseVector([1.2124, -1.7052, -0.2559, -0.3904])),\n",
              " Row(x_scaled=DenseVector([-0.6962, -1.7052, -0.2559, -0.3904])),\n",
              " Row(x_scaled=DenseVector([-0.5805, -1.7052, -0.2559, -0.3904])),\n",
              " Row(x_scaled=DenseVector([-0.6383, -1.7052, -0.2559, -0.3904])),\n",
              " Row(x_scaled=DenseVector([0.9232, -1.7052, -0.2559, -0.3904])),\n",
              " Row(x_scaled=DenseVector([0.1135, -1.7052, -0.2559, -0.3904])),\n",
              " Row(x_scaled=DenseVector([-0.6383, -1.7052, -0.2559, -0.3904])),\n",
              " Row(x_scaled=DenseVector([-0.8118, -1.7052, -0.2559, 0.876])),\n",
              " Row(x_scaled=DenseVector([-0.8118, -1.7052, -0.2559, -0.3904])),\n",
              " Row(x_scaled=DenseVector([-0.6962, -1.7052, -0.2559, -0.3904])),\n",
              " Row(x_scaled=DenseVector([-1.6793, -1.7052, -0.2559, -0.3904])),\n",
              " Row(x_scaled=DenseVector([-0.0022, -1.7052, -0.2559, 0.876])),\n",
              " Row(x_scaled=DenseVector([-0.1178, -1.7052, 1.3187, 0.876])),\n",
              " Row(x_scaled=DenseVector([-0.6962, -1.7052, 1.3187, 0.876])),\n",
              " Row(x_scaled=DenseVector([0.1135, -1.7052, -0.2559, -0.3904])),\n",
              " Row(x_scaled=DenseVector([-0.2913, -1.7052, -0.2559, -0.3904])),\n",
              " Row(x_scaled=DenseVector([-0.5227, -1.7052, -0.2559, -0.3904])),\n",
              " Row(x_scaled=DenseVector([-0.1757, -1.7052, -0.2559, -0.3904])),\n",
              " Row(x_scaled=DenseVector([-0.4648, -1.7052, -0.2559, -0.3904])),\n",
              " Row(x_scaled=DenseVector([-0.8118, -1.7052, -0.2559, -0.3904])),\n",
              " Row(x_scaled=DenseVector([-0.1757, -1.7052, -0.2559, -0.3904])),\n",
              " Row(x_scaled=DenseVector([-0.4648, -1.7052, -0.2559, 0.876])),\n",
              " Row(x_scaled=DenseVector([0.634, -1.7052, -0.2559, -0.3904])),\n",
              " Row(x_scaled=DenseVector([-0.1757, -1.7052, -0.2559, -0.3904])),\n",
              " Row(x_scaled=DenseVector([1.4437, -1.7052, -0.2559, -0.3904])),\n",
              " Row(x_scaled=DenseVector([-0.0022, -1.7052, -0.2559, 0.876])),\n",
              " Row(x_scaled=DenseVector([-0.1178, -1.7052, -0.2559, 3.4089])),\n",
              " Row(x_scaled=DenseVector([-0.6383, -1.7052, -0.2559, -0.3904])),\n",
              " Row(x_scaled=DenseVector([-0.1757, -1.7052, -0.2559, -0.3904])),\n",
              " Row(x_scaled=DenseVector([0.1135, -1.7052, -0.2559, -0.3904])),\n",
              " Row(x_scaled=DenseVector([0.2292, -1.7052, -0.2559, 2.1425])),\n",
              " Row(x_scaled=DenseVector([0.5762, -1.7052, -0.2559, -0.3904])),\n",
              " Row(x_scaled=DenseVector([0.2292, -1.7052, -0.2559, -0.3904])),\n",
              " Row(x_scaled=DenseVector([0.1713, -1.7052, -0.2559, 2.1425])),\n",
              " Row(x_scaled=DenseVector([-0.2913, -1.7052, -0.2559, 0.876])),\n",
              " Row(x_scaled=DenseVector([1.7329, -1.7052, -0.2559, 0.876])),\n",
              " Row(x_scaled=DenseVector([0.3449, -1.7052, -0.2559, -0.3904])),\n",
              " Row(x_scaled=DenseVector([-0.4648, -1.7052, -0.2559, -0.3904])),\n",
              " Row(x_scaled=DenseVector([-1.2167, -1.7052, -0.2559, -0.3904])),\n",
              " Row(x_scaled=DenseVector([-0.1757, -1.7052, -0.2559, 0.876])),\n",
              " Row(x_scaled=DenseVector([-0.5805, -1.7052, -0.2559, -0.3904])),\n",
              " Row(x_scaled=DenseVector([-1.8528, -1.7052, -0.2559, -0.3904])),\n",
              " Row(x_scaled=DenseVector([2.3112, -1.7052, -0.2559, -0.3904])),\n",
              " Row(x_scaled=DenseVector([0.634, -1.7052, -0.2559, -0.3904])),\n",
              " Row(x_scaled=DenseVector([-0.06, -1.7052, -0.2559, -0.3904])),\n",
              " Row(x_scaled=DenseVector([-1.101, -1.7052, -0.2559, -0.3904])),\n",
              " Row(x_scaled=DenseVector([-0.1757, -1.7052, -0.2559, 0.876])),\n",
              " Row(x_scaled=DenseVector([0.4027, -1.7052, -0.2559, -0.3904])),\n",
              " Row(x_scaled=DenseVector([0.3449, -1.7052, -0.2559, 0.876])),\n",
              " Row(x_scaled=DenseVector([-0.9853, -1.7052, -0.2559, 0.876])),\n",
              " Row(x_scaled=DenseVector([0.8654, -1.7052, -0.2559, -0.3904])),\n",
              " Row(x_scaled=DenseVector([-0.4648, -1.7052, -0.2559, 0.876])),\n",
              " Row(x_scaled=DenseVector([-0.0022, -1.7052, -0.2559, -0.3904])),\n",
              " Row(x_scaled=DenseVector([0.981, -1.7052, -0.2559, -0.3904])),\n",
              " Row(x_scaled=DenseVector([1.2702, -1.7052, -0.2559, -0.3904])),\n",
              " Row(x_scaled=DenseVector([1.4437, -1.7052, -0.2559, -0.3904])),\n",
              " Row(x_scaled=DenseVector([-0.8118, -1.7052, -0.2559, -0.3904])),\n",
              " Row(x_scaled=DenseVector([1.9642, -1.7052, 1.3187, 0.876])),\n",
              " Row(x_scaled=DenseVector([1.8485, -1.7052, 1.3187, 0.876])),\n",
              " Row(x_scaled=DenseVector([-0.9275, -1.7052, -0.2559, 0.876])),\n",
              " Row(x_scaled=DenseVector([-0.8697, -1.7052, -0.2559, -0.3904])),\n",
              " Row(x_scaled=DenseVector([2.7739, -1.7052, -0.2559, -0.3904])),\n",
              " Row(x_scaled=DenseVector([-0.754, -1.7052, -0.2559, -0.3904])),\n",
              " Row(x_scaled=DenseVector([-0.1757, -1.7052, -0.2559, 0.876])),\n",
              " Row(x_scaled=DenseVector([-0.8118, -1.7052, -0.2559, -0.3904])),\n",
              " Row(x_scaled=DenseVector([1.6172, -1.7052, -0.2559, -0.3904])),\n",
              " Row(x_scaled=DenseVector([0.287, -1.7052, 2.8933, -0.3904])),\n",
              " Row(x_scaled=DenseVector([-0.5227, -1.7052, -0.2559, 0.876])),\n",
              " Row(x_scaled=DenseVector([0.8654, -1.7052, 1.3187, -0.3904])),\n",
              " Row(x_scaled=DenseVector([0.7497, -1.7052, 1.3187, -0.3904])),\n",
              " Row(x_scaled=DenseVector([0.5184, -1.7052, -0.2559, -0.3904])),\n",
              " Row(x_scaled=DenseVector([0.981, -1.7052, -0.2559, -0.3904])),\n",
              " Row(x_scaled=DenseVector([1.9064, -1.7052, 1.3187, 0.876])),\n",
              " Row(x_scaled=DenseVector([2.1377, -1.7052, 1.3187, 0.876])),\n",
              " Row(x_scaled=DenseVector([0.1135, -1.7052, -0.2559, -0.3904])),\n",
              " Row(x_scaled=DenseVector([0.287, -1.7052, -0.2559, 3.4089])),\n",
              " Row(x_scaled=DenseVector([0.634, -1.7052, -0.2559, -0.3904])),\n",
              " Row(x_scaled=DenseVector([-0.3492, -1.7052, -0.2559, -0.3904])),\n",
              " Row(x_scaled=DenseVector([3.1209, -1.7052, -0.2559, -0.3904])),\n",
              " Row(x_scaled=DenseVector([-0.8118, -1.7052, -0.2559, -0.3904])),\n",
              " Row(x_scaled=DenseVector([0.5762, -1.7052, -0.2559, -0.3904])),\n",
              " Row(x_scaled=DenseVector([-0.6383, -1.7052, -0.2559, -0.3904])),\n",
              " Row(x_scaled=DenseVector([-0.3492, -1.7052, -0.2559, -0.3904])),\n",
              " Row(x_scaled=DenseVector([0.2292, -1.7052, 1.3187, -0.3904])),\n",
              " Row(x_scaled=DenseVector([-0.9853, -1.7052, -0.2559, 0.876])),\n",
              " Row(x_scaled=DenseVector([1.1545, -1.7052, -0.2559, -0.3904])),\n",
              " Row(x_scaled=DenseVector([-0.8697, -1.7052, -0.2559, -0.3904])),\n",
              " Row(x_scaled=DenseVector([-1.2167, -1.7052, -0.2559, 2.1425])),\n",
              " Row(x_scaled=DenseVector([0.8654, -1.7052, -0.2559, -0.3904])),\n",
              " Row(x_scaled=DenseVector([-0.9853, -1.7052, -0.2559, -0.3904])),\n",
              " Row(x_scaled=DenseVector([1.9064, -1.7052, -0.2559, -0.3904])),\n",
              " Row(x_scaled=DenseVector([-0.1757, -1.7052, -0.2559, -0.3904])),\n",
              " Row(x_scaled=DenseVector([0.5184, -1.7052, -0.2559, -0.3904])),\n",
              " Row(x_scaled=DenseVector([-0.3492, -1.7052, -0.2559, -0.3904])),\n",
              " Row(x_scaled=DenseVector([0.0557, -1.7052, -0.2559, -0.3904])),\n",
              " Row(x_scaled=DenseVector([0.4027, -1.7052, -0.2559, -0.3904])),\n",
              " Row(x_scaled=DenseVector([-0.06, -1.7052, -0.2559, -0.3904])),\n",
              " Row(x_scaled=DenseVector([0.1713, -1.7052, -0.2559, -0.3904])),\n",
              " Row(x_scaled=DenseVector([2.4269, -1.7052, -0.2559, -0.3904])),\n",
              " Row(x_scaled=DenseVector([0.9232, -1.7052, -0.2559, -0.3904])),\n",
              " Row(x_scaled=DenseVector([-0.754, -1.7052, -0.2559, -0.3904])),\n",
              " Row(x_scaled=DenseVector([-1.101, -1.7052, -0.2559, -0.3904])),\n",
              " Row(x_scaled=DenseVector([-0.0022, -1.7052, -0.2559, 0.876])),\n",
              " Row(x_scaled=DenseVector([1.7329, -1.7052, -0.2559, -0.3904])),\n",
              " Row(x_scaled=DenseVector([0.4605, -1.7052, -0.2559, 0.876])),\n",
              " Row(x_scaled=DenseVector([0.9232, -1.7052, -0.2559, -0.3904])),\n",
              " Row(x_scaled=DenseVector([0.0557, -1.7052, -0.2559, 2.1425])),\n",
              " Row(x_scaled=DenseVector([-0.2913, -1.7052, -0.2559, -0.3904])),\n",
              " Row(x_scaled=DenseVector([-0.5805, -1.7052, -0.2559, -0.3904])),\n",
              " Row(x_scaled=DenseVector([0.287, -1.7052, -0.2559, -0.3904])),\n",
              " Row(x_scaled=DenseVector([-0.754, -1.7052, -0.2559, -0.3904])),\n",
              " Row(x_scaled=DenseVector([-1.0432, -1.7052, -0.2559, -0.3904])),\n",
              " Row(x_scaled=DenseVector([0.9232, -1.7052, -0.2559, -0.3904])),\n",
              " Row(x_scaled=DenseVector([-0.1178, -1.7052, -0.2559, -0.3904])),\n",
              " Row(x_scaled=DenseVector([0.6919, -1.7052, -0.2559, -0.3904])),\n",
              " Row(x_scaled=DenseVector([0.2292, -1.7052, -0.2559, -0.3904])),\n",
              " Row(x_scaled=DenseVector([-1.9685, -1.7052, -0.2559, -0.3904])),\n",
              " Row(x_scaled=DenseVector([2.3112, -1.7052, -0.2559, -0.3904])),\n",
              " Row(x_scaled=DenseVector([0.5184, -1.7052, -0.2559, -0.3904])),\n",
              " Row(x_scaled=DenseVector([-0.8697, -1.7052, -0.2559, 0.876])),\n",
              " Row(x_scaled=DenseVector([-1.9685, -1.7052, -0.2559, -0.3904])),\n",
              " Row(x_scaled=DenseVector([0.1713, -1.7052, -0.2559, -0.3904])),\n",
              " Row(x_scaled=DenseVector([-1.101, -1.7052, -0.2559, 0.876])),\n",
              " Row(x_scaled=DenseVector([1.675, -1.7052, -0.2559, 4.6754])),\n",
              " Row(x_scaled=DenseVector([-0.3492, -1.7052, -0.2559, -0.3904])),\n",
              " Row(x_scaled=DenseVector([-0.6383, -1.7052, -0.2559, -0.3904])),\n",
              " Row(x_scaled=DenseVector([1.9064, -1.7052, -0.2559, -0.3904])),\n",
              " Row(x_scaled=DenseVector([0.1713, -1.7052, -0.2559, -0.3904])),\n",
              " Row(x_scaled=DenseVector([-0.9275, -1.7052, -0.2559, -0.3904])),\n",
              " Row(x_scaled=DenseVector([0.6919, -1.7052, -0.2559, -0.3904])),\n",
              " Row(x_scaled=DenseVector([-0.754, -1.7052, -0.2559, -0.3904])),\n",
              " Row(x_scaled=DenseVector([2.022, -1.7052, 1.3187, -0.3904])),\n",
              " Row(x_scaled=DenseVector([-1.448, -1.7052, 1.3187, -0.3904])),\n",
              " Row(x_scaled=DenseVector([0.9232, -1.7052, -0.2559, -0.3904])),\n",
              " Row(x_scaled=DenseVector([-0.0022, -1.7052, -0.2559, -0.3904])),\n",
              " Row(x_scaled=DenseVector([-0.6962, -1.7052, 1.3187, -0.3904])),\n",
              " Row(x_scaled=DenseVector([-0.9853, -1.7052, -0.2559, -0.3904])),\n",
              " Row(x_scaled=DenseVector([0.5184, -1.7052, -0.2559, -0.3904])),\n",
              " Row(x_scaled=DenseVector([-0.8118, -1.7052, -0.2559, -0.3904])),\n",
              " Row(x_scaled=DenseVector([-1.0432, -1.7052, -0.2559, -0.3904])),\n",
              " Row(x_scaled=DenseVector([0.5184, -1.7052, -0.2559, -0.3904])),\n",
              " Row(x_scaled=DenseVector([-0.6383, -1.7052, -0.2559, -0.3904])),\n",
              " Row(x_scaled=DenseVector([0.9232, -1.7052, -0.2559, -0.3904])),\n",
              " Row(x_scaled=DenseVector([2.022, -1.7052, 1.3187, -0.3904])),\n",
              " Row(x_scaled=DenseVector([2.022, -1.7052, 1.3187, -0.3904])),\n",
              " Row(x_scaled=DenseVector([-0.2335, -1.7052, -0.2559, -0.3904])),\n",
              " Row(x_scaled=DenseVector([-0.754, -1.7052, -0.2559, -0.3904])),\n",
              " Row(x_scaled=DenseVector([-0.5227, -1.7052, -0.2559, -0.3904])),\n",
              " Row(x_scaled=DenseVector([-0.5227, -1.7052, -0.2559, -0.3904])),\n",
              " Row(x_scaled=DenseVector([-1.9685, -1.7052, -0.2559, -0.3904])),\n",
              " Row(x_scaled=DenseVector([0.4027, -1.7052, -0.2559, -0.3904])),\n",
              " Row(x_scaled=DenseVector([0.2292, -1.7052, -0.2559, -0.3904])),\n",
              " Row(x_scaled=DenseVector([0.5184, -1.7052, -0.2559, -0.3904])),\n",
              " Row(x_scaled=DenseVector([1.0389, -1.7052, -0.2559, -0.3904])),\n",
              " Row(x_scaled=DenseVector([-0.06, -1.7052, -0.2559, -0.3904])),\n",
              " Row(x_scaled=DenseVector([-0.407, -1.7052, -0.2559, -0.3904])),\n",
              " Row(x_scaled=DenseVector([-0.5227, -1.7052, 2.8933, -0.3904])),\n",
              " Row(x_scaled=DenseVector([-0.6383, -1.7052, 2.8933, -0.3904])),\n",
              " Row(x_scaled=DenseVector([0.0557, -1.7052, 2.8933, -0.3904])),\n",
              " Row(x_scaled=DenseVector([0.5184, -1.7052, -0.2559, -0.3904])),\n",
              " Row(x_scaled=DenseVector([-0.2913, -1.7052, -0.2559, 0.876])),\n",
              " Row(x_scaled=DenseVector([-0.4648, -1.7052, -0.2559, -0.3904])),\n",
              " Row(x_scaled=DenseVector([-1.0432, -1.7052, -0.2559, -0.3904])),\n",
              " Row(x_scaled=DenseVector([-0.9275, -1.7052, -0.2559, -0.3904])),\n",
              " Row(x_scaled=DenseVector([0.2292, -1.7052, -0.2559, 0.876])),\n",
              " Row(x_scaled=DenseVector([0.3449, -1.7052, -0.2559, -0.3904])),\n",
              " Row(x_scaled=DenseVector([0.5184, -1.7052, -0.2559, -0.3904])),\n",
              " Row(x_scaled=DenseVector([1.2124, -1.7052, -0.2559, -0.3904])),\n",
              " Row(x_scaled=DenseVector([-0.407, -1.7052, -0.2559, 0.876])),\n",
              " Row(x_scaled=DenseVector([0.0557, -1.7052, -0.2559, -0.3904])),\n",
              " Row(x_scaled=DenseVector([0.8654, -1.7052, -0.2559, -0.3904])),\n",
              " Row(x_scaled=DenseVector([0.287, -1.7052, -0.2559, -0.3904])),\n",
              " Row(x_scaled=DenseVector([-0.3492, -1.7052, -0.2559, -0.3904])),\n",
              " Row(x_scaled=DenseVector([-0.1178, -1.7052, -0.2559, -0.3904])),\n",
              " Row(x_scaled=DenseVector([2.7739, -1.7052, -0.2559, -0.3904])),\n",
              " Row(x_scaled=DenseVector([-0.4648, -1.7052, -0.2559, -0.3904])),\n",
              " Row(x_scaled=DenseVector([0.0557, -1.7052, -0.2559, -0.3904])),\n",
              " Row(x_scaled=DenseVector([0.1135, -1.7052, 1.3187, -0.3904])),\n",
              " Row(x_scaled=DenseVector([1.675, -1.7052, 1.3187, -0.3904])),\n",
              " Row(x_scaled=DenseVector([-1.7372, -1.7052, -0.2559, -0.3904])),\n",
              " Row(x_scaled=DenseVector([2.022, -1.7052, -0.2559, -0.3904])),\n",
              " Row(x_scaled=DenseVector([0.3449, -1.7052, -0.2559, -0.3904])),\n",
              " Row(x_scaled=DenseVector([0.5184, -1.7052, -0.2559, -0.3904])),\n",
              " Row(x_scaled=DenseVector([0.4605, -1.7052, -0.2559, -0.3904])),\n",
              " Row(x_scaled=DenseVector([0.4605, -1.7052, -0.2559, -0.3904])),\n",
              " Row(x_scaled=DenseVector([0.9232, -1.7052, -0.2559, 0.876])),\n",
              " Row(x_scaled=DenseVector([-0.6962, -1.7052, -0.2559, -0.3904])),\n",
              " Row(x_scaled=DenseVector([-0.6962, -1.7052, -0.2559, 0.876])),\n",
              " Row(x_scaled=DenseVector([0.4605, -1.7052, -0.2559, -0.3904])),\n",
              " Row(x_scaled=DenseVector([0.9232, -1.7052, -0.2559, -0.3904])),\n",
              " Row(x_scaled=DenseVector([0.634, -1.7052, -0.2559, -0.3904])),\n",
              " Row(x_scaled=DenseVector([0.287, -1.7052, -0.2559, -0.3904])),\n",
              " Row(x_scaled=DenseVector([0.8654, -1.7052, -0.2559, -0.3904])),\n",
              " Row(x_scaled=DenseVector([0.3449, -1.7052, -0.2559, -0.3904])),\n",
              " Row(x_scaled=DenseVector([0.8075, -1.7052, -0.2559, -0.3904])),\n",
              " Row(x_scaled=DenseVector([-0.2913, -1.7052, -0.2559, -0.3904])),\n",
              " Row(x_scaled=DenseVector([-0.3492, -1.7052, -0.2559, -0.3904])),\n",
              " Row(x_scaled=DenseVector([-0.3492, -1.7052, -0.2559, 0.876])),\n",
              " Row(x_scaled=DenseVector([-0.1178, -1.7052, -0.2559, -0.3904])),\n",
              " Row(x_scaled=DenseVector([-0.1757, -1.7052, -0.2559, -0.3904])),\n",
              " Row(x_scaled=DenseVector([1.4437, -1.7052, -0.2559, -0.3904])),\n",
              " Row(x_scaled=DenseVector([-1.9685, -1.7052, -0.2559, -0.3904])),\n",
              " Row(x_scaled=DenseVector([0.1135, -1.7052, -0.2559, -0.3904])),\n",
              " Row(x_scaled=DenseVector([0.5762, -1.7052, 1.3187, -0.3904])),\n",
              " Row(x_scaled=DenseVector([0.6919, -1.7052, 1.3187, -0.3904])),\n",
              " Row(x_scaled=DenseVector([0.0557, -1.7052, -0.2559, -0.3904])),\n",
              " Row(x_scaled=DenseVector([0.287, -1.7052, -0.2559, -0.3904])),\n",
              " Row(x_scaled=DenseVector([0.5762, -1.7052, -0.2559, -0.3904])),\n",
              " Row(x_scaled=DenseVector([0.5184, -1.7052, -0.2559, -0.3904])),\n",
              " Row(x_scaled=DenseVector([-0.1757, -1.7052, -0.2559, -0.3904])),\n",
              " Row(x_scaled=DenseVector([-0.407, -1.7052, -0.2559, -0.3904])),\n",
              " Row(x_scaled=DenseVector([-1.9107, -1.7052, -0.2559, 0.876])),\n",
              " Row(x_scaled=DenseVector([0.1713, -1.7052, -0.2559, -0.3904])),\n",
              " Row(x_scaled=DenseVector([-0.1757, -1.7052, -0.2559, -0.3904])),\n",
              " Row(x_scaled=DenseVector([-1.9107, -1.7052, -0.2559, 0.876])),\n",
              " Row(x_scaled=DenseVector([2.022, -1.7052, -0.2559, -0.3904])),\n",
              " Row(x_scaled=DenseVector([-0.3492, -1.7052, -0.2559, -0.3904])),\n",
              " Row(x_scaled=DenseVector([-1.795, -1.7052, -0.2559, -0.3904])),\n",
              " Row(x_scaled=DenseVector([-1.9685, -1.7052, -0.2559, -0.3904])),\n",
              " Row(x_scaled=DenseVector([-1.9685, -1.7052, -0.2559, -0.3904])),\n",
              " Row(x_scaled=DenseVector([-0.8697, -1.7052, -0.2559, -0.3904])),\n",
              " Row(x_scaled=DenseVector([0.1713, -1.7052, -0.2559, -0.3904])),\n",
              " Row(x_scaled=DenseVector([-1.795, -1.7052, -0.2559, -0.3904])),\n",
              " Row(x_scaled=DenseVector([0.634, -1.7052, -0.2559, -0.3904])),\n",
              " Row(x_scaled=DenseVector([-0.6383, -1.7052, -0.2559, 0.876])),\n",
              " Row(x_scaled=DenseVector([0.9232, -1.7052, 2.8933, -0.3904])),\n",
              " Row(x_scaled=DenseVector([0.8654, -1.7052, 2.8933, -0.3904])),\n",
              " Row(x_scaled=DenseVector([0.981, -1.7052, -0.2559, -0.3904])),\n",
              " Row(x_scaled=DenseVector([1.3859, -1.7052, 1.3187, -0.3904])),\n",
              " Row(x_scaled=DenseVector([1.4437, -1.7052, 1.3187, -0.3904])),\n",
              " Row(x_scaled=DenseVector([-1.2167, -1.7052, -0.2559, -0.3904])),\n",
              " Row(x_scaled=DenseVector([0.1135, -1.7052, -0.2559, -0.3904])),\n",
              " Row(x_scaled=DenseVector([-0.9853, -1.7052, -0.2559, -0.3904])),\n",
              " Row(x_scaled=DenseVector([-1.2167, -1.7052, -0.2559, -0.3904])),\n",
              " Row(x_scaled=DenseVector([-0.3492, -1.7052, -0.2559, -0.3904])),\n",
              " Row(x_scaled=DenseVector([-1.101, -1.7052, 1.3187, -0.3904])),\n",
              " Row(x_scaled=DenseVector([-1.101, -1.7052, -0.2559, 2.1425])),\n",
              " Row(x_scaled=DenseVector([-1.9685, -1.7052, -0.2559, -0.3904])),\n",
              " Row(x_scaled=DenseVector([-1.9685, -1.7052, -0.2559, -0.3904])),\n",
              " Row(x_scaled=DenseVector([-0.9275, -1.7052, -0.2559, -0.3904])),\n",
              " Row(x_scaled=DenseVector([-1.8528, -1.7052, -0.2559, -0.3904])),\n",
              " Row(x_scaled=DenseVector([-0.1757, -1.7052, -0.2559, -0.3904])),\n",
              " Row(x_scaled=DenseVector([0.4027, -1.7052, -0.2559, -0.3904])),\n",
              " Row(x_scaled=DenseVector([-1.9107, -1.7052, 4.4679, -0.3904])),\n",
              " Row(x_scaled=DenseVector([-1.795, -1.7052, 4.4679, -0.3904])),\n",
              " Row(x_scaled=DenseVector([-1.6215, -1.7052, 4.4679, -0.3904])),\n",
              " Row(x_scaled=DenseVector([-1.5637, -1.7052, 4.4679, -0.3904])),\n",
              " Row(x_scaled=DenseVector([-0.1178, -1.7052, 2.8933, -0.3904])),\n",
              " Row(x_scaled=DenseVector([0.8075, -1.7052, 2.8933, -0.3904])),\n",
              " Row(x_scaled=DenseVector([-0.2335, -1.7052, 2.8933, -0.3904])),\n",
              " Row(x_scaled=DenseVector([-1.8528, -1.7052, -0.2559, -0.3904])),\n",
              " Row(x_scaled=DenseVector([0.2292, -1.7052, -0.2559, -0.3904])),\n",
              " Row(x_scaled=DenseVector([-1.5637, -1.7052, 1.3187, -0.3904])),\n",
              " Row(x_scaled=DenseVector([-1.9107, -1.7052, 1.3187, -0.3904])),\n",
              " Row(x_scaled=DenseVector([-0.754, -1.7052, -0.2559, -0.3904])),\n",
              " Row(x_scaled=DenseVector([0.981, -1.7052, -0.2559, -0.3904])),\n",
              " Row(x_scaled=DenseVector([-0.8697, -1.7052, -0.2559, -0.3904])),\n",
              " Row(x_scaled=DenseVector([-0.4648, -1.7052, -0.2559, -0.3904])),\n",
              " Row(x_scaled=DenseVector([1.7907, -1.7052, 1.3187, -0.3904])),\n",
              " Row(x_scaled=DenseVector([-1.448, -1.7052, 1.3187, -0.3904])),\n",
              " Row(x_scaled=DenseVector([-1.8528, -1.7052, -0.2559, -0.3904])),\n",
              " Row(x_scaled=DenseVector([-0.5805, -1.7052, -0.2559, -0.3904])),\n",
              " Row(x_scaled=DenseVector([0.4605, -1.7052, -0.2559, -0.3904])),\n",
              " Row(x_scaled=DenseVector([0.0557, -1.7052, -0.2559, -0.3904])),\n",
              " Row(x_scaled=DenseVector([-1.8528, -1.7052, -0.2559, -0.3904])),\n",
              " Row(x_scaled=DenseVector([-0.0022, -1.7052, -0.2559, -0.3904])),\n",
              " Row(x_scaled=DenseVector([0.4027, -1.7052, -0.2559, -0.3904])),\n",
              " Row(x_scaled=DenseVector([-0.9275, -1.7052, -0.2559, 2.1425])),\n",
              " Row(x_scaled=DenseVector([0.1135, -1.7052, -0.2559, 3.4089])),\n",
              " Row(x_scaled=DenseVector([1.6172, -1.7052, -0.2559, -0.3904])),\n",
              " Row(x_scaled=DenseVector([0.287, -1.7052, -0.2559, 3.4089])),\n",
              " Row(x_scaled=DenseVector([-0.407, -1.7052, -0.2559, 0.876])),\n",
              " Row(x_scaled=DenseVector([-1.9107, -1.7052, -0.2559, -0.3904])),\n",
              " Row(x_scaled=DenseVector([-0.6962, -1.7052, -0.2559, -0.3904])),\n",
              " Row(x_scaled=DenseVector([-0.9275, -1.7052, -0.2559, -0.3904])),\n",
              " Row(x_scaled=DenseVector([0.8654, -1.7052, -0.2559, -0.3904])),\n",
              " Row(x_scaled=DenseVector([-0.6962, -1.7052, -0.2559, -0.3904])),\n",
              " Row(x_scaled=DenseVector([-0.06, -1.7052, -0.2559, -0.3904])),\n",
              " Row(x_scaled=DenseVector([-0.5227, -1.7052, -0.2559, -0.3904])),\n",
              " Row(x_scaled=DenseVector([0.3449, -1.7052, -0.2559, -0.3904])),\n",
              " Row(x_scaled=DenseVector([1.5594, -1.7052, -0.2559, -0.3904])),\n",
              " Row(x_scaled=DenseVector([2.1955, -1.7052, -0.2559, -0.3904])),\n",
              " Row(x_scaled=DenseVector([2.8317, -1.7052, -0.2559, -0.3904])),\n",
              " Row(x_scaled=DenseVector([-1.8528, -1.7052, -0.2559, -0.3904])),\n",
              " Row(x_scaled=DenseVector([-0.5227, -1.7052, -0.2559, 0.876])),\n",
              " Row(x_scaled=DenseVector([0.0557, -1.7052, -0.2559, -0.3904])),\n",
              " Row(x_scaled=DenseVector([-0.2913, -1.7052, -0.2559, 0.876])),\n",
              " Row(x_scaled=DenseVector([0.9232, -1.7052, -0.2559, -0.3904])),\n",
              " Row(x_scaled=DenseVector([0.9232, -1.7052, -0.2559, -0.3904])),\n",
              " Row(x_scaled=DenseVector([0.981, -1.7052, -0.2559, -0.3904])),\n",
              " Row(x_scaled=DenseVector([0.2292, -1.7052, -0.2559, -0.3904])),\n",
              " Row(x_scaled=DenseVector([-1.6215, -1.7052, -0.2559, -0.3904])),\n",
              " Row(x_scaled=DenseVector([0.287, -1.7052, -0.2559, -0.3904])),\n",
              " Row(x_scaled=DenseVector([-1.9107, -1.7052, -0.2559, -0.3904])),\n",
              " Row(x_scaled=DenseVector([-0.9275, -1.7052, -0.2559, -0.3904])),\n",
              " Row(x_scaled=DenseVector([0.8075, -1.7052, -0.2559, -0.3904])),\n",
              " Row(x_scaled=DenseVector([-0.06, -1.7052, -0.2559, -0.3904])),\n",
              " Row(x_scaled=DenseVector([-0.8697, -1.7052, 1.3187, 0.876])),\n",
              " Row(x_scaled=DenseVector([-0.9275, -1.7052, 1.3187, 0.876])),\n",
              " Row(x_scaled=DenseVector([-0.407, -1.7052, -0.2559, -0.3904])),\n",
              " Row(x_scaled=DenseVector([-0.407, -1.7052, -0.2559, -0.3904])),\n",
              " Row(x_scaled=DenseVector([-0.754, -1.7052, -0.2559, -0.3904])),\n",
              " Row(x_scaled=DenseVector([0.8075, -1.7052, -0.2559, -0.3904])),\n",
              " Row(x_scaled=DenseVector([0.1713, -1.7052, -0.2559, -0.3904])),\n",
              " Row(x_scaled=DenseVector([0.9232, -1.7052, 1.3187, -0.3904])),\n",
              " Row(x_scaled=DenseVector([-0.4648, -1.7052, 1.3187, -0.3904])),\n",
              " Row(x_scaled=DenseVector([-0.3492, -1.7052, -0.2559, 0.876])),\n",
              " Row(x_scaled=DenseVector([-0.1757, -1.7052, -0.2559, -0.3904])),\n",
              " Row(x_scaled=DenseVector([-0.06, -1.7052, -0.2559, -0.3904])),\n",
              " Row(x_scaled=DenseVector([2.6582, -1.7052, -0.2559, 0.876])),\n",
              " Row(x_scaled=DenseVector([-0.407, -1.7052, -0.2559, -0.3904])),\n",
              " ...]"
            ]
          },
          "metadata": {},
          "execution_count": 20
        }
      ]
    },
    {
      "cell_type": "code",
      "source": [
        "# Drop the extra outputs num_cols and cont_features before PCA\n",
        "scaled = scaled.drop('cont_features')"
      ],
      "metadata": {
        "id": "9cPntuYJSftG"
      },
      "execution_count": null,
      "outputs": []
    },
    {
      "cell_type": "code",
      "source": [
        "scaled = scaled.drop(*num_cols)"
      ],
      "metadata": {
        "id": "Tv3w-3SyYHTn"
      },
      "execution_count": null,
      "outputs": []
    },
    {
      "cell_type": "code",
      "source": [
        "scaled.show()"
      ],
      "metadata": {
        "colab": {
          "base_uri": "https://localhost:8080/"
        },
        "id": "U3fEjfCuSx1U",
        "outputId": "17a55b85-8653-41f5-e3ec-04cbf59e82dd"
      },
      "execution_count": null,
      "outputs": [
        {
          "output_type": "stream",
          "name": "stdout",
          "text": [
            "+---------------+-------------------+--------------+------------------+--------------------+------------------+-------------------+---------------------+--------------+--------------------+-------------------+------------------+---------------------+--------------------+\n",
            "|  State_recoded|Agency_type_recoded| Month_recoded|Crime_type_recoded|Crime_status_recoded|Victim_sex_recoded|Victim_race_recoded|Offender_race_recoded|Weapon_recoded|Relationship_recoded|Crime_cause_recoded|    County_recoded|Offender_demo_recoded|            x_scaled|\n",
            "+---------------+-------------------+--------------+------------------+--------------------+------------------+-------------------+---------------------+--------------+--------------------+-------------------+------------------+---------------------+--------------------+\n",
            "|(50,[38],[1.0])|      (7,[0],[1.0])|(11,[4],[1.0])|     (1,[0],[1.0])|       (5,[0],[1.0])|         (1,[],[])|      (2,[1],[1.0])|        (2,[1],[1.0])| (4,[0],[1.0])|       (4,[2],[1.0])|      (5,[0],[1.0])| (1732,[87],[1.0])|        (5,[0],[1.0])|[-0.5226616465801...|\n",
            "|(50,[21],[1.0])|      (7,[1],[1.0])|(11,[4],[1.0])|     (1,[0],[1.0])|       (5,[1],[1.0])|     (1,[0],[1.0])|      (2,[0],[1.0])|        (2,[0],[1.0])| (4,[2],[1.0])|       (4,[0],[1.0])|      (5,[0],[1.0])|(1732,[112],[1.0])|        (5,[0],[1.0])|[-0.5804957625909...|\n",
            "|(50,[24],[1.0])|      (7,[0],[1.0])|(11,[4],[1.0])|     (1,[0],[1.0])|       (5,[0],[1.0])|         (1,[],[])|      (2,[1],[1.0])|        (2,[1],[1.0])| (4,[0],[1.0])|       (4,[2],[1.0])|      (5,[1],[1.0])|(1732,[245],[1.0])|        (5,[0],[1.0])|[-0.0599887184940...|\n",
            "|(50,[24],[1.0])|      (7,[0],[1.0])|(11,[4],[1.0])|     (1,[0],[1.0])|       (5,[0],[1.0])|         (1,[],[])|      (2,[1],[1.0])|        (2,[1],[1.0])| (4,[2],[1.0])|       (4,[3],[1.0])|      (5,[0],[1.0])|  (1732,[5],[1.0])|        (5,[0],[1.0])|[-1.7950121988168...|\n",
            "|(50,[24],[1.0])|      (7,[1],[1.0])|(11,[4],[1.0])|     (1,[0],[1.0])|       (5,[1],[1.0])|     (1,[0],[1.0])|      (2,[0],[1.0])|        (2,[1],[1.0])| (4,[0],[1.0])|       (4,[0],[1.0])|      (5,[2],[1.0])|(1732,[133],[1.0])|        (5,[1],[1.0])|[2.1955418059255,...|\n",
            "|(50,[24],[1.0])|      (7,[1],[1.0])|(11,[4],[1.0])|     (1,[0],[1.0])|       (5,[0],[1.0])|     (1,[0],[1.0])|      (2,[0],[1.0])|        (2,[0],[1.0])| (4,[0],[1.0])|       (4,[3],[1.0])|      (5,[0],[1.0])| (1732,[50],[1.0])|        (5,[1],[1.0])|[0.40268420959198...|\n",
            "|(50,[24],[1.0])|      (7,[0],[1.0])|(11,[4],[1.0])|     (1,[0],[1.0])|       (5,[0],[1.0])|     (1,[0],[1.0])|      (2,[0],[1.0])|        (2,[0],[1.0])| (4,[1],[1.0])|       (4,[1],[1.0])|      (5,[1],[1.0])|(1732,[283],[1.0])|        (5,[0],[1.0])|[-0.6961639946124...|\n",
            "|(50,[24],[1.0])|      (7,[0],[1.0])|(11,[4],[1.0])|     (1,[0],[1.0])|       (5,[0],[1.0])|     (1,[0],[1.0])|      (2,[1],[1.0])|        (2,[1],[1.0])| (4,[1],[1.0])|       (4,[2],[1.0])|      (5,[1],[1.0])| (1732,[48],[1.0])|        (5,[2],[1.0])|[0.98102536969956...|\n",
            "|(50,[24],[1.0])|      (7,[0],[1.0])|(11,[4],[1.0])|     (1,[0],[1.0])|       (5,[0],[1.0])|     (1,[0],[1.0])|      (2,[1],[1.0])|        (2,[1],[1.0])|     (4,[],[])|       (4,[1],[1.0])|      (5,[0],[1.0])| (1732,[48],[1.0])|        (5,[0],[1.0])|[-0.1178228345048...|\n",
            "|(50,[24],[1.0])|      (7,[0],[1.0])|(11,[4],[1.0])|     (1,[0],[1.0])|       (5,[0],[1.0])|     (1,[0],[1.0])|      (2,[0],[1.0])|        (2,[0],[1.0])| (4,[0],[1.0])|       (4,[1],[1.0])|      (5,[2],[1.0])|(1732,[430],[1.0])|        (5,[0],[1.0])|[1.73286887783943...|\n",
            "|(50,[24],[1.0])|      (7,[0],[1.0])|(11,[4],[1.0])|     (1,[0],[1.0])|       (5,[0],[1.0])|         (1,[],[])|      (2,[1],[1.0])|        (2,[1],[1.0])| (4,[0],[1.0])|       (4,[2],[1.0])|      (5,[1],[1.0])| (1732,[78],[1.0])|        (5,[0],[1.0])|[-0.6961639946124...|\n",
            "|(50,[24],[1.0])|      (7,[0],[1.0])|(11,[4],[1.0])|     (1,[0],[1.0])|       (5,[0],[1.0])|     (1,[0],[1.0])|      (2,[1],[1.0])|        (2,[0],[1.0])| (4,[3],[1.0])|       (4,[3],[1.0])|      (5,[0],[1.0])| (1732,[40],[1.0])|        (5,[2],[1.0])|[-1.9106804308383...|\n",
            "|(50,[24],[1.0])|      (7,[1],[1.0])|(11,[4],[1.0])|     (1,[0],[1.0])|       (5,[0],[1.0])|     (1,[0],[1.0])|      (2,[0],[1.0])|        (2,[0],[1.0])| (4,[0],[1.0])|       (4,[1],[1.0])|      (5,[1],[1.0])|(1732,[995],[1.0])|        (5,[2],[1.0])|[1.61720064581791...|\n",
            "|(50,[14],[1.0])|      (7,[0],[1.0])|(11,[4],[1.0])|     (1,[0],[1.0])|       (5,[0],[1.0])|     (1,[0],[1.0])|      (2,[0],[1.0])|        (2,[0],[1.0])| (4,[2],[1.0])|       (4,[1],[1.0])|      (5,[1],[1.0])|  (1732,[6],[1.0])|        (5,[0],[1.0])|[-0.2334910665263...|\n",
            "|(50,[14],[1.0])|      (7,[0],[1.0])|(11,[4],[1.0])|     (1,[0],[1.0])|       (5,[0],[1.0])|     (1,[0],[1.0])|      (2,[0],[1.0])|        (2,[0],[1.0])| (4,[0],[1.0])|       (4,[1],[1.0])|      (5,[1],[1.0])|  (1732,[6],[1.0])|        (5,[0],[1.0])|[-0.4069934145586...|\n",
            "|(50,[14],[1.0])|      (7,[1],[1.0])|(11,[4],[1.0])|     (1,[0],[1.0])|       (5,[0],[1.0])|     (1,[0],[1.0])|      (2,[0],[1.0])|        (2,[0],[1.0])| (4,[0],[1.0])|       (4,[1],[1.0])|      (5,[0],[1.0])|(1732,[185],[1.0])|        (5,[3],[1.0])|[0.40268420959198...|\n",
            "|(50,[14],[1.0])|      (7,[0],[1.0])|(11,[4],[1.0])|     (1,[0],[1.0])|       (5,[0],[1.0])|     (1,[0],[1.0])|          (2,[],[])|        (2,[0],[1.0])| (4,[0],[1.0])|       (4,[1],[1.0])|      (5,[3],[1.0])| (1732,[45],[1.0])|        (5,[0],[1.0])|[-0.8696663426447...|\n",
            "| (50,[0],[1.0])|      (7,[0],[1.0])|(11,[4],[1.0])|     (1,[0],[1.0])|       (5,[0],[1.0])|     (1,[0],[1.0])|      (2,[1],[1.0])|        (2,[1],[1.0])| (4,[0],[1.0])|       (4,[1],[1.0])|      (5,[0],[1.0])| (1732,[36],[1.0])|        (5,[0],[1.0])|[-0.2913251825371...|\n",
            "| (50,[0],[1.0])|      (7,[0],[1.0])|(11,[4],[1.0])|     (1,[0],[1.0])|       (5,[0],[1.0])|         (1,[],[])|          (2,[],[])|            (2,[],[])| (4,[1],[1.0])|       (4,[3],[1.0])|      (5,[1],[1.0])| (1732,[36],[1.0])|        (5,[0],[1.0])|[0.63402067363501...|\n",
            "| (50,[0],[1.0])|      (7,[0],[1.0])|(11,[4],[1.0])|     (1,[0],[1.0])|       (5,[2],[1.0])|         (1,[],[])|      (2,[0],[1.0])|        (2,[0],[1.0])| (4,[0],[1.0])|       (4,[3],[1.0])|      (5,[1],[1.0])| (1732,[36],[1.0])|        (5,[2],[1.0])|[0.28701597757046...|\n",
            "+---------------+-------------------+--------------+------------------+--------------------+------------------+-------------------+---------------------+--------------+--------------------+-------------------+------------------+---------------------+--------------------+\n",
            "only showing top 20 rows\n",
            "\n"
          ]
        }
      ]
    },
    {
      "cell_type": "code",
      "source": [],
      "metadata": {
        "id": "IAwkB8U8Yafd"
      },
      "execution_count": null,
      "outputs": []
    },
    {
      "cell_type": "markdown",
      "source": [
        "Principle Component Analysis"
      ],
      "metadata": {
        "id": "nzDbLKStPDpD"
      }
    },
    {
      "cell_type": "code",
      "source": [
        "# Combined both sclaed numeric features and encoded categorical variables to be input into the PCA function\n",
        "# Create the vector assembler to combine all input cols\n",
        "vector_assembler = VectorAssembler(inputCols=scaled.columns, outputCol='inpca_features')\n",
        "scaled_df = vector_assembler.transform(scaled)"
      ],
      "metadata": {
        "id": "HQpC4KqFQV-l"
      },
      "execution_count": null,
      "outputs": []
    },
    {
      "cell_type": "code",
      "source": [
        "# Define the PCA with no of components and input data vectors\n",
        "pca = PCA(k=10, inputCol=\"inpca_features\", outputCol=\"features\")"
      ],
      "metadata": {
        "id": "CHyJmnXUFaca"
      },
      "execution_count": null,
      "outputs": []
    },
    {
      "cell_type": "code",
      "source": [
        "# Fit data to the PC to obtained model\n",
        "pca_model = pca.fit(scaled_df)"
      ],
      "metadata": {
        "id": "u6pwrzMPFc3D"
      },
      "execution_count": null,
      "outputs": []
    },
    {
      "cell_type": "code",
      "source": [
        "transformed = pca_model.transform(scaled_df)\n",
        "transformed.show(5)"
      ],
      "metadata": {
        "colab": {
          "base_uri": "https://localhost:8080/"
        },
        "id": "nXvyOx-Kd_Mf",
        "outputId": "f0a5dcf9-a3d7-489c-fe44-320d4a86b73f"
      },
      "execution_count": null,
      "outputs": [
        {
          "output_type": "stream",
          "name": "stdout",
          "text": [
            "+---------------+-------------------+--------------+------------------+--------------------+------------------+-------------------+---------------------+--------------+--------------------+-------------------+------------------+---------------------+--------------------+--------------------+--------------------+\n",
            "|  State_recoded|Agency_type_recoded| Month_recoded|Crime_type_recoded|Crime_status_recoded|Victim_sex_recoded|Victim_race_recoded|Offender_race_recoded|Weapon_recoded|Relationship_recoded|Crime_cause_recoded|    County_recoded|Offender_demo_recoded|            x_scaled|      inpca_features|            features|\n",
            "+---------------+-------------------+--------------+------------------+--------------------+------------------+-------------------+---------------------+--------------+--------------------+-------------------+------------------+---------------------+--------------------+--------------------+--------------------+\n",
            "|(50,[38],[1.0])|      (7,[0],[1.0])|(11,[4],[1.0])|     (1,[0],[1.0])|       (5,[0],[1.0])|         (1,[],[])|      (2,[1],[1.0])|        (2,[1],[1.0])| (4,[0],[1.0])|       (4,[2],[1.0])|      (5,[0],[1.0])| (1732,[87],[1.0])|        (5,[0],[1.0])|[-0.5226616465801...|(1833,[38,50,61,6...|[0.14265319269993...|\n",
            "|(50,[21],[1.0])|      (7,[1],[1.0])|(11,[4],[1.0])|     (1,[0],[1.0])|       (5,[1],[1.0])|     (1,[0],[1.0])|      (2,[0],[1.0])|        (2,[0],[1.0])| (4,[2],[1.0])|       (4,[0],[1.0])|      (5,[0],[1.0])|(1732,[112],[1.0])|        (5,[0],[1.0])|[-0.5804957625909...|(1833,[21,51,61,6...|[-0.7818357450281...|\n",
            "|(50,[24],[1.0])|      (7,[0],[1.0])|(11,[4],[1.0])|     (1,[0],[1.0])|       (5,[0],[1.0])|         (1,[],[])|      (2,[1],[1.0])|        (2,[1],[1.0])| (4,[0],[1.0])|       (4,[2],[1.0])|      (5,[1],[1.0])|(1732,[245],[1.0])|        (5,[0],[1.0])|[-0.0599887184940...|(1833,[24,50,61,6...|[0.44919747544335...|\n",
            "|(50,[24],[1.0])|      (7,[0],[1.0])|(11,[4],[1.0])|     (1,[0],[1.0])|       (5,[0],[1.0])|         (1,[],[])|      (2,[1],[1.0])|        (2,[1],[1.0])| (4,[2],[1.0])|       (4,[3],[1.0])|      (5,[0],[1.0])|  (1732,[5],[1.0])|        (5,[0],[1.0])|[-1.7950121988168...|(1833,[24,50,61,6...|[-0.3313394987501...|\n",
            "|(50,[24],[1.0])|      (7,[1],[1.0])|(11,[4],[1.0])|     (1,[0],[1.0])|       (5,[1],[1.0])|     (1,[0],[1.0])|      (2,[0],[1.0])|        (2,[1],[1.0])| (4,[0],[1.0])|       (4,[0],[1.0])|      (5,[2],[1.0])|(1732,[133],[1.0])|        (5,[1],[1.0])|[2.1955418059255,...|(1833,[24,51,61,6...|[-1.8508454379438...|\n",
            "+---------------+-------------------+--------------+------------------+--------------------+------------------+-------------------+---------------------+--------------+--------------------+-------------------+------------------+---------------------+--------------------+--------------------+--------------------+\n",
            "only showing top 5 rows\n",
            "\n"
          ]
        }
      ]
    },
    {
      "cell_type": "code",
      "source": [
        "#transformed.select('features').show() # view a specific column\n",
        "#transformed.select(['features']).collect() # view the data in rowwise"
      ],
      "metadata": {
        "id": "G7guA5_n6T9v"
      },
      "execution_count": null,
      "outputs": []
    },
    {
      "cell_type": "code",
      "source": [
        "# Explained variance per PC\n",
        "print(pca_model.explainedVariance)"
      ],
      "metadata": {
        "id": "OKXhlMzWFfAG",
        "colab": {
          "base_uri": "https://localhost:8080/"
        },
        "outputId": "6e5c03b7-7eca-489f-d6c0-7b03a62d0df3"
      },
      "execution_count": null,
      "outputs": [
        {
          "output_type": "stream",
          "name": "stdout",
          "text": [
            "[0.11798932360617173,0.10073977457464915,0.09243639767062162,0.0880745366636902,0.06638279754079876,0.037410326889698774,0.033603343188356845,0.029046485728652,0.02455358398207598,0.022383033776370173]\n"
          ]
        }
      ]
    },
    {
      "cell_type": "code",
      "source": [
        "# Plot the variance explained by each PC\n",
        "pc = ['PC1','PC2','PC3','PC4','PC5','PC6','PC7','PC8','PC9','PC10']\n",
        "plt.bar(pc,pca_model.explainedVariance,color='dimgrey',alpha=1,zorder=2)\n",
        "plt.grid(color='lightgrey', linewidth=1, axis='both', alpha=0.5)\n",
        "plt.title(\"Explained varinace by PC\")\n",
        "plt.xlabel(\"Principle component\")\n",
        "plt.ylabel(\"percentage of Variance\")"
      ],
      "metadata": {
        "id": "QiPONscZOJoX",
        "colab": {
          "base_uri": "https://localhost:8080/",
          "height": 489
        },
        "outputId": "66b7382f-e083-4384-80e6-78924df6bea7"
      },
      "execution_count": null,
      "outputs": [
        {
          "output_type": "execute_result",
          "data": {
            "text/plain": [
              "Text(0, 0.5, 'percentage of Variance')"
            ]
          },
          "metadata": {},
          "execution_count": 30
        },
        {
          "output_type": "display_data",
          "data": {
            "text/plain": [
              "<Figure size 640x480 with 1 Axes>"
            ],
            "image/png": "[encoded data removed]"
          },
          "metadata": {}
        }
      ]
    },
    {
      "cell_type": "code",
      "source": [
        "# get the cumulative values\n",
        "cumValues = pca_model.explainedVariance.cumsum()\n",
        "\n",
        "# plot the graph\n",
        "plt.figure(figsize=(10,8))\n",
        "plt.plot(range(1,11), cumValues, marker = 'o', linestyle='--')\n",
        "plt.title('Cumulative PEV for PC selection')\n",
        "plt.xlabel('PC')\n",
        "plt.ylabel('Cumulative PEV')"
      ],
      "metadata": {
        "id": "uLsBuRvBFiVh",
        "colab": {
          "base_uri": "https://localhost:8080/",
          "height": 735
        },
        "outputId": "cb51b55a-56f0-4f76-f71f-094c58993c7b"
      },
      "execution_count": null,
      "outputs": [
        {
          "output_type": "execute_result",
          "data": {
            "text/plain": [
              "Text(0, 0.5, 'Cumulative PEV')"
            ]
          },
          "metadata": {},
          "execution_count": 31
        },
        {
          "output_type": "display_data",
          "data": {
            "text/plain": [
              "<Figure size 1000x800 with 1 Axes>"
            ],
            "image/png": "[encoded data removed]"
          },
          "metadata": {}
        }
      ]
    },
    {
      "cell_type": "markdown",
      "source": [
        "Convert the PC scores into dataframe and write to a csv"
      ],
      "metadata": {
        "id": "TkOa9vEcCRHC"
      }
    },
    {
      "cell_type": "code",
      "source": [
        "# Extract the loading vectors from the transformed dataframe\n",
        "scores = transformed.select(['features'])"
      ],
      "metadata": {
        "id": "hFRiir1_Bw7A"
      },
      "execution_count": null,
      "outputs": []
    },
    {
      "cell_type": "code",
      "source": [
        "# Create a nee dataframe with PC loadings\n",
        "column_names = pc\n",
        "df_scores = scores.rdd.map(lambda x:[float(y) for y in x['features']]).toDF(column_names)\n",
        "df_scores.show()"
      ],
      "metadata": {
        "id": "kWcOuvhlI0ZI",
        "colab": {
          "base_uri": "https://localhost:8080/"
        },
        "outputId": "431a94e4-751d-4814-b24e-607e4c0ab2b5"
      },
      "execution_count": null,
      "outputs": [
        {
          "output_type": "stream",
          "name": "stdout",
          "text": [
            "+--------------------+--------------------+-------------------+--------------------+--------------------+--------------------+--------------------+--------------------+--------------------+--------------------+\n",
            "|                 PC1|                 PC2|                PC3|                 PC4|                 PC5|                 PC6|                 PC7|                 PC8|                 PC9|                PC10|\n",
            "+--------------------+--------------------+-------------------+--------------------+--------------------+--------------------+--------------------+--------------------+--------------------+--------------------+\n",
            "| 0.14265319269993043| -1.7212627187821685| 1.0741239004190217|-0.14283169573402907| -1.0687707976817191| -0.5829200359679844|-0.21201456514227365| 0.03963595580029653| -0.6457749649880319|  0.1109874457453399|\n",
            "| -0.7818357450281189| -0.7658904120042231| 0.5866510472335765| -1.8653544925816572|  0.7097133808364315| -1.2290586257985936|-0.17459260146721994| 0.43478887975699154|-0.10216159794691296|   1.064780191510766|\n",
            "|  0.4491974754433512|  -1.552694744299699| 0.8812366847420045| -0.3892975028899651| -1.3765321395848615|  0.2548590073592223|  0.7239292828180135|-0.02489675387818...|-0.21995239144524772|  0.1454914221546696|\n",
            "|-0.33133949875011687| -2.3263805347948154| 1.6003620391410465|  0.2616193563424719|-0.22133164619559317|-0.40299748268065194| -0.7368849001817062| -0.5226419221254464| -0.3455777159061065|  0.7080562250119051|\n",
            "| -1.8508454379438055| 0.47719433092789254|-1.4419408963582403|  -3.622766899812577| -1.5955925667956294| -0.8043325014118161|  0.5906169929713954|  0.9452739471539942| 0.04153006435858545|-0.37670704849335335|\n",
            "|  0.9908145186966435| -0.5869819376079135| 0.7741896518861922|  -1.377621448041976| 0.17605534782558466| -0.9622710992152229|-0.21167046643753099|  1.0876914003932132| -0.6119659785937841| -0.6622383170006473|\n",
            "|  0.7222328369708663| -1.3282024242405008| 1.1798216116315614|   -1.04591394546325| 0.49499196830479675| 0.36483751161985734|  0.8402370475731178| -0.5412027906833892|  -1.089679906557715|  0.8489844019740909|\n",
            "|  0.9779698817978111| -1.0972845658734192|0.40003835754638584| -0.8520146467171692| -1.8549692928865635|  0.4867181103445265| 0.24665353911396673| -0.6528377423493851| 0.13008891506917722|   -0.32171308149908|\n",
            "|  0.2663971219407526| -1.6298990112459957| 0.8782544468753446| -0.3318938185182466| -1.2664285021788322|-0.40074216455809064|-0.32459750466564263|-0.09221546709443086| -1.3888176349662085|  0.7519286555300353|\n",
            "|  1.4883452394341588|-0.17558167237838618|0.20763956440542766|  -1.862960036403132| -0.8624052526646722| -0.6797618824851549|  1.1856261192926452| 0.17481357700960942|  -1.828499073058692|  0.2632422006032832|\n",
            "|  0.1767073450761818| -1.8566206067716355| 1.1275187568841099|-0.16146098471319345| -1.0327745493337661|   0.295460835925742|  0.7301982361932282|-0.02625324594461504|-0.18350376020088052| 0.15292028047607972|\n",
            "|-0.19517217397629716|  -2.101865622136753|  1.620625161199337|-0.05846371164160058|  0.6416947821955975| -0.5153925495577003| -0.5872930068821964| -0.5489870057791627|-0.45049059057031027| -0.4035162568663142|\n",
            "|   1.659902465914864|-0.09051713992848066| 0.2657092632276127| -1.9234059054231378| -0.5819226521348385|   0.177681192808456|   0.722106891834055|  1.1553355517010984| -0.7674858521089301|-0.40346068265206186|\n",
            "|  0.9068369534151806|  -1.115217142598856| 1.0083930153279805| -1.2235277811742535|   0.314176339884286| 0.23845937104619233|  0.8258667126293147| -0.4759729912865821|  -1.215050469967994|  0.8220812551327101|\n",
            "|  0.7039020279209924| -1.2045275939287816| 1.0714701790286827|  -1.072384914349766|  0.2878540190324585| 0.06263555522241848|   1.285919160535904| 0.08743364049161344| -1.5488793956972429| 0.34067852947345406|\n",
            "|  1.0709647676759622| -0.5743930183834478| 0.7356463886134815| -1.4325173251178387| 0.10703832049656067| -0.6678867888417467|-0.12487716994214093|  1.2850602678623855| -1.2555153077179007|-0.36775881519394077|\n",
            "|    0.27527659026849|  -1.567117125006196| 1.2273771206163007| -0.6803394726784197| 0.20099674934775583|-0.30315561100411437|   0.908688857980883| 0.20118525534732734| -1.6540155691781904|   0.338989537630955|\n",
            "|   0.106107058699065| -1.7344845166033416|  0.957427152591071| -0.2563807594870129|  -1.216494826916326| -0.5825116191409109|   0.145441493906977| 0.28806001573451506| -1.6339087622817885|  0.3993504631559862|\n",
            "|  1.1291920246748977| -0.8904826935677949| 0.7017501782773345| -1.1359419851026407|  -0.829581342361026|  0.2384415454104388| 0.48524248789211893| -0.8388183592247558|-0.08414527915771157|  0.6825293034751482|\n",
            "|  0.4455147133424193|  0.5415442501517584| 2.0109693242749604| -1.2156238524584515|-0.22020129928396098| 0.09989207478579501|  0.8781922207816213|-0.41145407046481586| -0.3811216725745754| -0.8498338680971069|\n",
            "+--------------------+--------------------+-------------------+--------------------+--------------------+--------------------+--------------------+--------------------+--------------------+--------------------+\n",
            "only showing top 20 rows\n",
            "\n"
          ]
        }
      ]
    },
    {
      "cell_type": "code",
      "source": [
        "#write the dataframe to a csv\n",
        "df_scores.write.option(\"header\", \"true\").csv('transformed_features')"
      ],
      "metadata": {
        "id": "-TYR5XaPCDMt"
      },
      "execution_count": null,
      "outputs": []
    },
    {
      "cell_type": "code",
      "source": [],
      "metadata": {
        "id": "_cSu1QRhCLEj"
      },
      "execution_count": null,
      "outputs": []
    }
  ]
}