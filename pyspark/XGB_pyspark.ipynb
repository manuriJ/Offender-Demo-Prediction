{
  "nbformat": 4,
  "nbformat_minor": 0,
  "metadata": {
    "colab": {
      "provenance": []
    },
    "kernelspec": {
      "name": "python3",
      "display_name": "Python 3"
    },
    "language_info": {
      "name": "python"
    }
  },
  "cells": [
    {
      "cell_type": "code",
      "source": [
        "from google.colab import drive\n",
        "drive.mount('/content/drive')"
      ],
      "metadata": {
        "colab": {
          "base_uri": "https://localhost:8080/"
        },
        "id": "I4OnxgnaSiFa",
        "outputId": "f1f4af67-e4ea-446b-ea71-f6120ceba673"
      },
      "execution_count": 1,
      "outputs": [
        {
          "output_type": "stream",
          "name": "stdout",
          "text": [
            "Mounted at /content/drive\n"
          ]
        }
      ]
    },
    {
      "cell_type": "code",
      "source": [
        "!pip install pyspark"
      ],
      "metadata": {
        "colab": {
          "base_uri": "https://localhost:8080/"
        },
        "id": "pKd1EbUtRfLe",
        "outputId": "8ab0fa07-3671-42e5-d4e8-fc9a5dffbcee"
      },
      "execution_count": 2,
      "outputs": [
        {
          "output_type": "stream",
          "name": "stdout",
          "text": [
            "Collecting pyspark\n",
            "  Downloading pyspark-3.5.1.tar.gz (317.0 MB)\n",
            "\u001b[2K     \u001b[90m━━━━━━━━━━━━━━━━━━━━━━━━━━━━━━━━━━━━━━━━\u001b[0m \u001b[32m317.0/317.0 MB\u001b[0m \u001b[31m3.0 MB/s\u001b[0m eta \u001b[36m0:00:00\u001b[0m\n",
            "\u001b[?25h  Preparing metadata (setup.py) ... \u001b[?25l\u001b[?25hdone\n",
            "Requirement already satisfied: py4j==0.10.9.7 in /usr/local/lib/python3.10/dist-packages (from pyspark) (0.10.9.7)\n",
            "Building wheels for collected packages: pyspark\n",
            "  Building wheel for pyspark (setup.py) ... \u001b[?25l\u001b[?25hdone\n",
            "  Created wheel for pyspark: filename=pyspark-3.5.1-py2.py3-none-any.whl size=317488491 sha256=f6d0b44c4c29e490466250bc65f61a53ac4d01688452f2e61ec6a3e98b85e58d\n",
            "  Stored in directory: /root/.cache/pip/wheels/80/1d/60/2c256ed38dddce2fdd93be545214a63e02fbd8d74fb0b7f3a6\n",
            "Successfully built pyspark\n",
            "Installing collected packages: pyspark\n",
            "Successfully installed pyspark-3.5.1\n"
          ]
        }
      ]
    },
    {
      "cell_type": "code",
      "execution_count": 3,
      "metadata": {
        "id": "WgVGMQ7gRBgC"
      },
      "outputs": [],
      "source": [
        "from pyspark.sql import SparkSession\n",
        "from xgboost.spark import SparkXGBClassifier\n",
        "from pyspark.sql.types import StringType\n",
        "from pyspark.ml.feature import VectorAssembler,StringIndexer\n",
        "from sklearn.metrics import confusion_matrix\n",
        "from pyspark.ml.evaluation import MulticlassClassificationEvaluator"
      ]
    },
    {
      "cell_type": "code",
      "source": [
        "spark = SparkSession.builder\\\n",
        "    .master(\"local[*]\")\\\n",
        "    .appName(\"XGB Trainer\")\\\n",
        "    .getOrCreate()\n",
        "sc = spark.sparkContext"
      ],
      "metadata": {
        "id": "-rIiw3SdSZEO"
      },
      "execution_count": 4,
      "outputs": []
    },
    {
      "cell_type": "code",
      "source": [
        "# Read the dataset as a spark dataframe\n",
        "df = spark.read.csv('drive/My Drive/cleaned_v2.csv',header = True,inferSchema = True)"
      ],
      "metadata": {
        "id": "M1LladztSfuR"
      },
      "execution_count": 5,
      "outputs": []
    },
    {
      "cell_type": "code",
      "source": [
        "# Drop unnecessaey cols\n",
        "df = df.drop('Offender_age','Offender_sex')"
      ],
      "metadata": {
        "id": "DxS3eERXT8oP"
      },
      "execution_count": 6,
      "outputs": []
    },
    {
      "cell_type": "code",
      "source": [
        "# Conver the categorical columns to index\n",
        "str_cols = [f.name for f in df.schema.fields if isinstance(f.dataType, StringType)]\n",
        "idxed_cols = ['%s_idx'%i for i in str_cols]"
      ],
      "metadata": {
        "id": "XVWihYf4Tfke"
      },
      "execution_count": 7,
      "outputs": []
    },
    {
      "cell_type": "code",
      "source": [
        "indexer = StringIndexer(inputCols=str_cols, outputCols=idxed_cols)\n",
        "indexed = indexer.fit(df).transform(df)"
      ],
      "metadata": {
        "id": "p75NOYDwTjWz"
      },
      "execution_count": 8,
      "outputs": []
    },
    {
      "cell_type": "code",
      "source": [
        "# Drop original categorical variables from the indexed dataset\n",
        "indexed = indexed.drop(*str_cols)"
      ],
      "metadata": {
        "id": "RNdt7tqSUCNk"
      },
      "execution_count": 9,
      "outputs": []
    },
    {
      "cell_type": "code",
      "source": [
        "indexed.show()"
      ],
      "metadata": {
        "colab": {
          "base_uri": "https://localhost:8080/"
        },
        "id": "t9Ai63f9VuN_",
        "outputId": "91b46aa5-fb71-43a6-fa4c-42fb3ca2ec0d"
      },
      "execution_count": 10,
      "outputs": [
        {
          "output_type": "stream",
          "name": "stdout",
          "text": [
            "+----+----------+----------------+------------------+---------+---------------+---------+--------------+----------------+--------------+---------------+-----------------+----------+----------------+---------------+----------+-----------------+\n",
            "|Year|Victim_age|add_victim_count|add_offender_count|State_idx|Agency_type_idx|Month_idx|Crime_type_idx|Crime_status_idx|Victim_sex_idx|Victim_race_idx|Offender_race_idx|Weapon_idx|Relationship_idx|Crime_cause_idx|County_idx|Offender_demo_idx|\n",
            "+----+----------+----------------+------------------+---------+---------------+---------+--------------+----------------+--------------+---------------+-----------------+----------+----------------+---------------+----------+-----------------+\n",
            "|2000|        25|               0|                 0|     38.0|            0.0|      4.0|           0.0|             0.0|           1.0|            1.0|              1.0|       0.0|             2.0|            0.0|      87.0|              0.0|\n",
            "|2000|        24|               0|                 1|     21.0|            1.0|      4.0|           0.0|             1.0|           0.0|            0.0|              0.0|       2.0|             0.0|            0.0|     112.0|              0.0|\n",
            "|2000|        33|               0|                 0|     24.0|            0.0|      4.0|           0.0|             0.0|           1.0|            1.0|              1.0|       0.0|             2.0|            1.0|     245.0|              0.0|\n",
            "|2000|         3|               0|                 0|     24.0|            0.0|      4.0|           0.0|             0.0|           1.0|            1.0|              1.0|       2.0|             3.0|            0.0|       5.0|              0.0|\n",
            "|2000|        72|               0|                 3|     24.0|            1.0|      4.0|           0.0|             1.0|           0.0|            0.0|              1.0|       0.0|             0.0|            2.0|     133.0|              1.0|\n",
            "|2000|        41|               0|                 0|     24.0|            1.0|      4.0|           0.0|             0.0|           0.0|            0.0|              0.0|       0.0|             3.0|            0.0|      50.0|              1.0|\n",
            "|2000|        22|               0|                 0|     24.0|            0.0|      4.0|           0.0|             0.0|           0.0|            0.0|              0.0|       1.0|             1.0|            1.0|     283.0|              0.0|\n",
            "|2000|        51|               0|                 0|     24.0|            0.0|      4.0|           0.0|             0.0|           0.0|            1.0|              1.0|       1.0|             2.0|            1.0|      48.0|              2.0|\n",
            "|2000|        32|               0|                 0|     24.0|            0.0|      4.0|           0.0|             0.0|           0.0|            1.0|              1.0|       4.0|             1.0|            0.0|      48.0|              0.0|\n",
            "|2000|        64|               0|                 0|     24.0|            0.0|      4.0|           0.0|             0.0|           0.0|            0.0|              0.0|       0.0|             1.0|            2.0|     430.0|              0.0|\n",
            "|2000|        22|               0|                 0|     24.0|            0.0|      4.0|           0.0|             0.0|           1.0|            1.0|              1.0|       0.0|             2.0|            1.0|      78.0|              0.0|\n",
            "|2000|         1|               0|                 0|     24.0|            0.0|      4.0|           0.0|             0.0|           0.0|            1.0|              0.0|       3.0|             3.0|            0.0|      40.0|              2.0|\n",
            "|2000|        62|               0|                 0|     24.0|            1.0|      4.0|           0.0|             0.0|           0.0|            0.0|              0.0|       0.0|             1.0|            1.0|     995.0|              2.0|\n",
            "|2000|        30|               0|                 0|     14.0|            0.0|      4.0|           0.0|             0.0|           0.0|            0.0|              0.0|       2.0|             1.0|            1.0|       6.0|              0.0|\n",
            "|2000|        27|               0|                 0|     14.0|            0.0|      4.0|           0.0|             0.0|           0.0|            0.0|              0.0|       0.0|             1.0|            1.0|       6.0|              0.0|\n",
            "|2000|        41|               0|                 0|     14.0|            1.0|      4.0|           0.0|             0.0|           0.0|            0.0|              0.0|       0.0|             1.0|            0.0|     185.0|              3.0|\n",
            "|2000|        19|               0|                 0|     14.0|            0.0|      4.0|           0.0|             0.0|           0.0|            2.0|              0.0|       0.0|             1.0|            3.0|      45.0|              0.0|\n",
            "|2000|        29|               0|                 0|      0.0|            0.0|      4.0|           0.0|             0.0|           0.0|            1.0|              1.0|       0.0|             1.0|            0.0|      36.0|              0.0|\n",
            "|2000|        45|               0|                 0|      0.0|            0.0|      4.0|           0.0|             0.0|           1.0|            2.0|              2.0|       1.0|             3.0|            1.0|      36.0|              0.0|\n",
            "|2000|        39|               1|                 0|      0.0|            0.0|      4.0|           0.0|             2.0|           1.0|            0.0|              0.0|       0.0|             3.0|            1.0|      36.0|              2.0|\n",
            "+----+----------+----------------+------------------+---------+---------------+---------+--------------+----------------+--------------+---------------+-----------------+----------+----------------+---------------+----------+-----------------+\n",
            "only showing top 20 rows\n",
            "\n"
          ]
        }
      ]
    },
    {
      "cell_type": "code",
      "source": [
        "# Define the input variables for the XGB algorithm\n",
        "input_features = indexed.columns[:-1]\n",
        "#input_features"
      ],
      "metadata": {
        "id": "ICTpppNyTjQ5"
      },
      "execution_count": 11,
      "outputs": []
    },
    {
      "cell_type": "code",
      "source": [
        "vector_assembler = VectorAssembler(inputCols=input_features, outputCol='features')\n",
        "data = vector_assembler.transform(indexed)\n",
        "#data.show()"
      ],
      "metadata": {
        "id": "1Pkc6Vm2TjHz"
      },
      "execution_count": 12,
      "outputs": []
    },
    {
      "cell_type": "code",
      "source": [
        "# Split the dataset in to train and test sets\n",
        "(trainingData, testData) = data.randomSplit([0.7, 0.3], seed=69)"
      ],
      "metadata": {
        "id": "wOLsObnMWpxf"
      },
      "execution_count": 14,
      "outputs": []
    },
    {
      "cell_type": "code",
      "source": [
        "xgb_classifier = SparkXGBClassifier(\n",
        "      features_col=\"features\",\n",
        "      label_col=\"Offender_demo_idx\",\n",
        "      eval_metric='merror',\n",
        "      eta = 1,\n",
        "      max_depth = 8,\n",
        "      min_child_weight = 7,\n",
        "      gamma = 10,\n",
        "      subsample = 0.8,\n",
        "      nrounds = 1500,\n",
        "      num_workers=2)"
      ],
      "metadata": {
        "id": "6s1FubMkRLiJ"
      },
      "execution_count": 15,
      "outputs": []
    },
    {
      "cell_type": "code",
      "source": [
        "# Train the model\n",
        "xgb_model = xgb_classifier.fit(trainingData)"
      ],
      "metadata": {
        "colab": {
          "base_uri": "https://localhost:8080/"
        },
        "id": "SSVP2eAQRsHL",
        "outputId": "9cf4c78c-0e94-4dc2-ebf4-01fe59ec6ec4"
      },
      "execution_count": 16,
      "outputs": [
        {
          "output_type": "stream",
          "name": "stderr",
          "text": [
            "INFO:XGBoost-PySpark:Running xgboost-2.0.3 on 2 workers with\n",
            "\tbooster params: {'objective': 'multi:softprob', 'device': 'cpu', 'gamma': 10, 'max_depth': 8, 'min_child_weight': 7, 'subsample': 0.8, 'eta': 1, 'nrounds': 1500, 'eval_metric': 'merror', 'num_class': 6, 'nthread': 1}\n",
            "\ttrain_call_kwargs_params: {'verbose_eval': True, 'num_boost_round': 100}\n",
            "\tdmatrix_kwargs: {'nthread': 1, 'missing': nan}\n",
            "INFO:XGBoost-PySpark:Finished xgboost training!\n"
          ]
        }
      ]
    },
    {
      "cell_type": "code",
      "source": [
        "# Generate the prediction and save into a dataframe\n",
        "predict_df = xgb_model.transform(testData)\n",
        "#predict_df.show()"
      ],
      "metadata": {
        "id": "uEq5j1PcSM_a"
      },
      "execution_count": 17,
      "outputs": []
    },
    {
      "cell_type": "code",
      "source": [
        "# Evalaute the xgb classifier using MulticlassClassificationEvaluator()\n",
        "evaluator = MulticlassClassificationEvaluator(labelCol=\"Offender_demo_idx\", predictionCol=\"prediction\", metricName=\"accuracy\")\n",
        "accuracy = evaluator.evaluate(predict_df)\n",
        "print(\"Test Accuracy = %g\" % accuracy)"
      ],
      "metadata": {
        "colab": {
          "base_uri": "https://localhost:8080/"
        },
        "id": "0a2qS9ObZecp",
        "outputId": "7b9423fd-71b8-4d39-d526-167b984069de"
      },
      "execution_count": 18,
      "outputs": [
        {
          "output_type": "stream",
          "name": "stdout",
          "text": [
            "Test Accuracy = 0.785406\n"
          ]
        }
      ]
    },
    {
      "cell_type": "code",
      "source": [
        "# Generate the Confusion Matrix\n",
        "y_true = predict_df.select(\"Offender_demo_idx\")\n",
        "y_true = y_true.toPandas()\n",
        "\n",
        "y_pred = predict_df.select(\"prediction\")\n",
        "y_pred = y_pred.toPandas()\n",
        "\n",
        "cnf_matrix = confusion_matrix(y_true, y_pred)\n",
        "cnf_matrix"
      ],
      "metadata": {
        "colab": {
          "base_uri": "https://localhost:8080/"
        },
        "id": "xUOhqRxln_kF",
        "outputId": "d7f52283-260e-491a-d425-e747e46b4540"
      },
      "execution_count": 19,
      "outputs": [
        {
          "output_type": "execute_result",
          "data": {
            "text/plain": [
              "array([[53718,   646,   778,   268,     0,     8],\n",
              "       [ 6189,   902,    51,     2,     0,     0],\n",
              "       [ 3951,    32,  2566,    16,     0,    61],\n",
              "       [ 3037,     5,    34,  1069,     0,     6],\n",
              "       [  367,    34,    87,     0,     0,     1],\n",
              "       [  265,     0,   103,    10,     0,   125]])"
            ]
          },
          "metadata": {},
          "execution_count": 19
        }
      ]
    },
    {
      "cell_type": "code",
      "source": [
        "import matplotlib.pyplot as plt\n",
        "from mlxtend.plotting import plot_confusion_matrix\n",
        "\n",
        "class_names = ['19-55M','<18M','19-55F','>56M','<18F','>56F']\n",
        "plt.figure()\n",
        "plot_confusion_matrix(cnf_matrix, class_names=class_names,\n",
        "                      show_absolute=False,\n",
        "                      show_normed=True)\n"
      ],
      "metadata": {
        "id": "e2X_amRPwLD6",
        "outputId": "5d091c52-ae15-44c7-e9ea-571f53ae1b5a",
        "colab": {
          "base_uri": "https://localhost:8080/",
          "height": 534
        }
      },
      "execution_count": 20,
      "outputs": [
        {
          "output_type": "execute_result",
          "data": {
            "text/plain": [
              "(<Figure size 640x480 with 1 Axes>,\n",
              " <Axes: xlabel='predicted label', ylabel='true label'>)"
            ]
          },
          "metadata": {},
          "execution_count": 20
        },
        {
          "output_type": "display_data",
          "data": {
            "text/plain": [
              "<Figure size 640x480 with 0 Axes>"
            ]
          },
          "metadata": {}
        },
        {
          "output_type": "display_data",
          "data": {
            "text/plain": [
              "<Figure size 640x480 with 1 Axes>"
            ],
            "image/png": "[encoded data removed]"
          },
          "metadata": {}
        }
      ]
    },
    {
      "cell_type": "code",
      "source": [],
      "metadata": {
        "id": "vKyXbZ5Mu9Sl"
      },
      "execution_count": null,
      "outputs": []
    },
    {
      "cell_type": "markdown",
      "source": [
        "Tuning - need more cluster power"
      ],
      "metadata": {
        "id": "0qvQ9QNEizM8"
      }
    },
    {
      "cell_type": "code",
      "source": [
        "xgb_tune = SparkXGBClassifier(num_workers=3, label_col='Offender_demo_idx', missing=0.0)"
      ],
      "metadata": {
        "id": "IQWpTvxIdSNi"
      },
      "execution_count": null,
      "outputs": []
    },
    {
      "cell_type": "code",
      "source": [
        "from pyspark.ml.tuning import ParamGridBuilder,CrossValidator\n",
        "\n",
        "paramGrid = ParamGridBuilder()\\\n",
        "  .addGrid(xgb_tune.max_depth, [2, 5])\\\n",
        "  .addGrid(xgb_tune.n_estimators, [10, 100])\\\n",
        "  .build()\n",
        "\n",
        "evaluator = MulticlassClassificationEvaluator(metricName='merror',\n",
        "                              labelCol=xgb_tune.getLabelCol(),\n",
        "                              predictionCol=xgb_tune.getPredictionCol())\n"
      ],
      "metadata": {
        "id": "qasEQi4jdVON"
      },
      "execution_count": null,
      "outputs": []
    },
    {
      "cell_type": "code",
      "source": [
        "from pyspark.ml.feature import VectorIndexer\n",
        "vectorAssembler = VectorAssembler(inputCols=input_features, outputCol='rawFeatures')\n",
        "\n",
        "vectorIndexer = VectorIndexer(inputCol='rawFeatures', outputCol='tunefeatures')"
      ],
      "metadata": {
        "id": "Aa2kU2AZfEtm"
      },
      "execution_count": null,
      "outputs": []
    },
    {
      "cell_type": "code",
      "source": [
        "from pyspark.ml import Pipeline\n",
        "cv = CrossValidator(estimator=xgb_tune, evaluator=evaluator, estimatorParamMaps=paramGrid)\n",
        "\n",
        "pipeline = Pipeline(stages=[vectorAssembler, vectorIndexer, cv])\n",
        "pipelineModel = pipeline.fit(trainingData)\n",
        "predictions = pipelineModel.transform(testData)"
      ],
      "metadata": {
        "id": "53h5aPLkeWzG"
      },
      "execution_count": null,
      "outputs": []
    },
    {
      "cell_type": "code",
      "source": [
        "predictions = pipelineModel.transform(testData)\n",
        "display(predictions.select('Offender_demo_idx','prediction',*input_features))"
      ],
      "metadata": {
        "id": "LPTjw9PCgDBC"
      },
      "execution_count": null,
      "outputs": []
    },
    {
      "cell_type": "code",
      "source": [
        "evaluator_tune = MulticlassClassificationEvaluator(metricName='merror',\n",
        "                              labelCol=xgb_tune.getLabelCol(),\n",
        "                              predictionCol=xgb_tune.getPredictionCol())\n",
        "\n",
        "merror = evaluator_tune.evaluate(predictions)\n",
        "print('classification error on our test set: %g' % merror)"
      ],
      "metadata": {
        "id": "W92_ajZPgan1"
      },
      "execution_count": null,
      "outputs": []
    }
  ]
}